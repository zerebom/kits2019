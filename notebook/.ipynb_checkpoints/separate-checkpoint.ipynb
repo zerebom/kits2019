{
 "cells": [
  {
   "cell_type": "code",
   "execution_count": 2,
   "metadata": {},
   "outputs": [],
   "source": [
    "import SimpleITK as sitk\n",
    "import numpy as np\n",
    "import tensorflow.python.keras.backend as K\n",
    "import os"
   ]
  },
  {
   "cell_type": "code",
   "execution_count": 1,
   "metadata": {},
   "outputs": [],
   "source": [
    "def DICE(turelabel, result):\n",
    "    intersection=np.sum(np.minimum(np.equal(turelabel,result),turelabel))\n",
    "    union = np.count_nonzero(turelabel)+np.count_nonzero(result)\n",
    "    dice = 2 * intersection / union\n",
    "    return dice\n",
    "\n",
    "def averagenum(num):\n",
    "    nsum = 0\n",
    "    for i in range(len(num)):\n",
    "        nsum += num[i]\n",
    "    return nsum / len(num)"
   ]
  },
  {
   "cell_type": "markdown",
   "metadata": {},
   "source": [
    "## Make directories under slice/label or iamge/case_00.../ "
   ]
  },
  {
   "cell_type": "code",
   "execution_count": 97,
   "metadata": {},
   "outputs": [
    {
     "ename": "FileExistsError",
     "evalue": "[WinError 183] 既に存在するファイルを作成することはできません。: 'E:\\\\slice\\\\label\\\\case_00001\\\\0'",
     "output_type": "error",
     "traceback": [
      "\u001b[1;31m---------------------------------------------------------------------------\u001b[0m",
      "\u001b[1;31mFileExistsError\u001b[0m                           Traceback (most recent call last)",
      "\u001b[1;32m<ipython-input-97-92fdf06c35e6>\u001b[0m in \u001b[0;36m<module>\u001b[1;34m\u001b[0m\n\u001b[0;32m      3\u001b[0m     \u001b[0mpath2\u001b[0m \u001b[1;33m=\u001b[0m \u001b[1;34m\"E:\\slice\\image\\case_00\"\u001b[0m\u001b[1;33m+\u001b[0m\u001b[0mstr\u001b[0m\u001b[1;33m(\u001b[0m\u001b[0mx\u001b[0m\u001b[1;33m)\u001b[0m\u001b[1;33m.\u001b[0m\u001b[0mzfill\u001b[0m\u001b[1;33m(\u001b[0m\u001b[1;36m3\u001b[0m\u001b[1;33m)\u001b[0m\u001b[1;33m\u001b[0m\u001b[1;33m\u001b[0m\u001b[0m\n\u001b[0;32m      4\u001b[0m     \u001b[1;32mfor\u001b[0m \u001b[0my\u001b[0m \u001b[1;32min\u001b[0m \u001b[0mrange\u001b[0m\u001b[1;33m(\u001b[0m\u001b[1;36m11\u001b[0m\u001b[1;33m)\u001b[0m\u001b[1;33m:\u001b[0m\u001b[1;33m\u001b[0m\u001b[1;33m\u001b[0m\u001b[0m\n\u001b[1;32m----> 5\u001b[1;33m         \u001b[0mos\u001b[0m\u001b[1;33m.\u001b[0m\u001b[0mmkdir\u001b[0m\u001b[1;33m(\u001b[0m\u001b[0mos\u001b[0m\u001b[1;33m.\u001b[0m\u001b[0mpath\u001b[0m\u001b[1;33m.\u001b[0m\u001b[0mjoin\u001b[0m\u001b[1;33m(\u001b[0m\u001b[0mpath1\u001b[0m\u001b[1;33m,\u001b[0m\u001b[0mstr\u001b[0m\u001b[1;33m(\u001b[0m\u001b[0my\u001b[0m\u001b[1;33m)\u001b[0m\u001b[1;33m)\u001b[0m\u001b[1;33m)\u001b[0m\u001b[1;33m\u001b[0m\u001b[1;33m\u001b[0m\u001b[0m\n\u001b[0m\u001b[0;32m      6\u001b[0m         \u001b[0mos\u001b[0m\u001b[1;33m.\u001b[0m\u001b[0mmkdir\u001b[0m\u001b[1;33m(\u001b[0m\u001b[0mos\u001b[0m\u001b[1;33m.\u001b[0m\u001b[0mpath\u001b[0m\u001b[1;33m.\u001b[0m\u001b[0mjoin\u001b[0m\u001b[1;33m(\u001b[0m\u001b[0mpath2\u001b[0m\u001b[1;33m,\u001b[0m\u001b[0mstr\u001b[0m\u001b[1;33m(\u001b[0m\u001b[0my\u001b[0m\u001b[1;33m)\u001b[0m\u001b[1;33m)\u001b[0m\u001b[1;33m)\u001b[0m\u001b[1;33m\u001b[0m\u001b[1;33m\u001b[0m\u001b[0m\n",
      "\u001b[1;31mFileExistsError\u001b[0m: [WinError 183] 既に存在するファイルを作成することはできません。: 'E:\\\\slice\\\\label\\\\case_00001\\\\0'"
     ]
    }
   ],
   "source": [
    "for x in range(210):\n",
    "    path1 = \"E:\\slice\\label\\case_00\"+str(x).zfill(3)\n",
    "    path2 = \"E:\\slice\\image\\case_00\"+str(x).zfill(3)\n",
    "    for y in range(11):\n",
    "        os.mkdir(os.path.join(path1,str(y)))\n",
    "        os.mkdir(os.path.join(path2,str(y)))"
   ]
  },
  {
   "cell_type": "markdown",
   "metadata": {},
   "source": [
    "## Separate slices"
   ]
  },
  {
   "cell_type": "code",
   "execution_count": 1,
   "metadata": {},
   "outputs": [
    {
     "ename": "NameError",
     "evalue": "name 'sitk' is not defined",
     "output_type": "error",
     "traceback": [
      "\u001b[1;31m---------------------------------------------------------------------------\u001b[0m",
      "\u001b[1;31mNameError\u001b[0m                                 Traceback (most recent call last)",
      "\u001b[1;32m<ipython-input-1-5d2e9be013fb>\u001b[0m in \u001b[0;36m<module>\u001b[1;34m\u001b[0m\n\u001b[0;32m      1\u001b[0m \u001b[1;32mfor\u001b[0m \u001b[0mq\u001b[0m \u001b[1;32min\u001b[0m \u001b[0mrange\u001b[0m\u001b[1;33m(\u001b[0m\u001b[1;36m210\u001b[0m\u001b[1;33m)\u001b[0m\u001b[1;33m:\u001b[0m\u001b[1;33m\u001b[0m\u001b[1;33m\u001b[0m\u001b[0m\n\u001b[0;32m      2\u001b[0m     \u001b[1;31m## Read image\u001b[0m\u001b[1;33m\u001b[0m\u001b[1;33m\u001b[0m\u001b[1;33m\u001b[0m\u001b[0m\n\u001b[1;32m----> 3\u001b[1;33m     \u001b[0mimage1\u001b[0m \u001b[1;33m=\u001b[0m \u001b[0msitk\u001b[0m\u001b[1;33m.\u001b[0m\u001b[0mReadImage\u001b[0m\u001b[1;33m(\u001b[0m\u001b[0mos\u001b[0m\u001b[1;33m.\u001b[0m\u001b[0mpath\u001b[0m\u001b[1;33m.\u001b[0m\u001b[0mjoin\u001b[0m\u001b[1;33m(\u001b[0m\u001b[1;34mr\"E:\\kits19\\data\\case_00\"\u001b[0m\u001b[1;33m+\u001b[0m\u001b[0mstr\u001b[0m\u001b[1;33m(\u001b[0m\u001b[0mq\u001b[0m\u001b[1;33m)\u001b[0m\u001b[1;33m.\u001b[0m\u001b[0mzfill\u001b[0m\u001b[1;33m(\u001b[0m\u001b[1;36m3\u001b[0m\u001b[1;33m)\u001b[0m\u001b[1;33m,\u001b[0m\u001b[1;34m\"segmentation.nii.gz\"\u001b[0m\u001b[1;33m)\u001b[0m\u001b[1;33m)\u001b[0m\u001b[1;33m\u001b[0m\u001b[1;33m\u001b[0m\u001b[0m\n\u001b[0m\u001b[0;32m      4\u001b[0m     \u001b[0mimage2\u001b[0m \u001b[1;33m=\u001b[0m \u001b[0msitk\u001b[0m\u001b[1;33m.\u001b[0m\u001b[0mReadImage\u001b[0m\u001b[1;33m(\u001b[0m\u001b[0mos\u001b[0m\u001b[1;33m.\u001b[0m\u001b[0mpath\u001b[0m\u001b[1;33m.\u001b[0m\u001b[0mjoin\u001b[0m\u001b[1;33m(\u001b[0m\u001b[1;34mr\"E:\\kits19\\data\\case_00\"\u001b[0m\u001b[1;33m+\u001b[0m\u001b[0mstr\u001b[0m\u001b[1;33m(\u001b[0m\u001b[0mq\u001b[0m\u001b[1;33m)\u001b[0m\u001b[1;33m.\u001b[0m\u001b[0mzfill\u001b[0m\u001b[1;33m(\u001b[0m\u001b[1;36m3\u001b[0m\u001b[1;33m)\u001b[0m\u001b[1;33m,\u001b[0m\u001b[1;34m\"imaging.nii.gz\"\u001b[0m\u001b[1;33m)\u001b[0m\u001b[1;33m)\u001b[0m\u001b[1;33m\u001b[0m\u001b[1;33m\u001b[0m\u001b[0m\n\u001b[0;32m      5\u001b[0m \u001b[1;33m\u001b[0m\u001b[0m\n",
      "\u001b[1;31mNameError\u001b[0m: name 'sitk' is not defined"
     ]
    }
   ],
   "source": [
    "for q in range(210):\n",
    "    ## Read image\n",
    "    image1 = sitk.ReadImage(os.path.join(r\"E:\\kits19\\data\\case_00\"+str(q).zfill(3),\"segmentation.nii.gz\"))\n",
    "    image2 = sitk.ReadImage(os.path.join(r\"E:\\kits19\\data\\case_00\"+str(q).zfill(3),\"imaging.nii.gz\"))\n",
    "\n",
    "    image1array = sitk.GetArrayFromImage(image1)\n",
    "    image2array = sitk.GetArrayFromImage(image2)\n",
    "\n",
    "    imagefragarray = []\n",
    "    imageIndex = []\n",
    "    count = 0\n",
    "    rnumber = len(image1array[0,0,:])\n",
    "    \n",
    "    #高さ方向の腎臓、腎臓がんの範囲特定\n",
    "    for x in range(rnumber):\n",
    "        imagefragarray = image1array[:,:,x]\n",
    "        if np.where(imagefragarray!=0,True,False).any():\n",
    "            imageIndex.append(x)\n",
    "    \n",
    "   # print(len(imageIndex))\n",
    "    number = int(len(imageIndex)/10)#特定されたスライスの枚数/10\n",
    "    snumber = -1 #スライスを10等分するための定数\n",
    "  #  print(number)\n",
    "\n",
    "    #スライスの保存（imageとsegmentation）\n",
    "    for i,t in enumerate(imageIndex):\n",
    "\n",
    "        image1frag = sitk.GetImageFromArray(image1array[:,:,t])\n",
    "        image2frag = sitk.GetImageFromArray(image2array[:,:,t])\n",
    "\n",
    "        if i%number==0 and snumber < 10:\n",
    "            snumber += 1\n",
    "\n",
    "       # print(\"saving cut to\", str(q)+\"imagefragment\"+str(i), end=\"...\", flush=True)\n",
    "\n",
    "        outfile1 = os.path.join(r\"E:\\slice\\label\\case_00\"+str(q).zfill(3),str(snumber))\n",
    "        outfile1 = os.path.join(outfile1,\"label{}.mha\".format(i))\n",
    "        outfile2 = os.path.join(r\"E:\\slice\\image\\case_00\"+str(q).zfill(3),str(snumber))\n",
    "        outfile2 = os.path.join(outfile2,\"image{}.mha\".format(i))\n",
    "\n",
    "\n",
    "        #imagefrag.SetOrigin(image.GetOrigin())\n",
    "        #imagefrag.SetSpacing(image.GetSpacing())\n",
    "        sitk.WriteImage(image1frag, outfile1, True)\n",
    "        sitk.WriteImage(image2frag, outfile2, True)\n",
    "        count += 1\n",
    " #   print(count)\n"
   ]
  },
  {
   "cell_type": "code",
   "execution_count": 71,
   "metadata": {},
   "outputs": [
    {
     "data": {
      "text/plain": [
       "101"
      ]
     },
     "execution_count": 71,
     "metadata": {},
     "output_type": "execute_result"
    }
   ],
   "source": [
    "image1 = sitk.ReadImage(os.path.join(r\"E:\\kits19\\data\\case_00\"+str(q).zfill(3),\"segmentation.nii.gz\"))\n",
    "image2 = sitk.ReadImage(os.path.join(r\"E:\\kits19\\data\\case_00\"+str(q).zfill(3),\"imaging.nii.gz\"))\n",
    "\n",
    "image1array = sitk.GetArrayFromImage(image1)\n",
    "image2array = sitk.GetArrayFromImage(image2)\n",
    "\n",
    "imagefragarray = []\n",
    "imageIndex = []\n",
    "count = 0\n",
    "\n",
    "len(image1array[1,1,:])"
   ]
  },
  {
   "cell_type": "code",
   "execution_count": 9,
   "metadata": {},
   "outputs": [
    {
     "name": "stdout",
     "output_type": "stream",
     "text": [
      "-3439690.562746807\n"
     ]
    }
   ],
   "source": [
    "array_tf = tf.convert_to_tensor(imagearray,dtype=tf.float64)\n",
    "pred_tf = tf.convert_to_tensor(predarray,dtype=tf.float64)\n",
    "\n",
    "epsilon = K.epsilon()\n",
    "\n",
    "result = tf.reduce_sum(array_tf,[0,1,2])\n",
    "result2 = tf.reduce_sum(imagearray.sum(0),0)\n",
    "result3 = tf.reduce_sum(result2,0)\n",
    "result_pow = tf.pow(tf.cast(result3,tf.float32),1.0/3.0)\n",
    "\n",
    "sess = tf.Session()\n",
    "\n",
    "#print(sess.run(result_pow))\n",
    "\n",
    "result_pow = tf.pow(result,1.0/3.0)\n",
    "\n",
    "#print(sess.run(result_pow))\n",
    "weight_y = result_pow / tf.reduce_sum(result_pow)\n",
    "#print(sess.run(1/weight_y))\n",
    "#print(sess.run(result))\n",
    "\n",
    "cross_entropy = tf.reduce_sum(1 / (weight_y + epsilon) * array_tf * tf.log(pred_tf + epsilon))\n",
    "print(sess.run(cross_entropy))"
   ]
  },
  {
   "cell_type": "code",
   "execution_count": 5,
   "metadata": {},
   "outputs": [],
   "source": [
    "image = sitk.ReadImage(r\"C:\\Users\\VMLAB\\Desktop\\kidney\\kits19\\data\\case_00000\\imaging.nii.gz\")\n",
    "imagearray = sitk.GetArrayFromImage(image)\n",
    "statfilter = sitk.LabelStati"
   ]
  },
  {
   "cell_type": "code",
   "execution_count": null,
   "metadata": {},
   "outputs": [],
   "source": []
  }
 ],
 "metadata": {
  "kernelspec": {
   "display_name": "Python 3",
   "language": "python",
   "name": "python3"
  },
  "language_info": {
   "codemirror_mode": {
    "name": "ipython",
    "version": 3
   },
   "file_extension": ".py",
   "mimetype": "text/x-python",
   "name": "python",
   "nbconvert_exporter": "python",
   "pygments_lexer": "ipython3",
   "version": "3.7.3"
  }
 },
 "nbformat": 4,
 "nbformat_minor": 2
}
