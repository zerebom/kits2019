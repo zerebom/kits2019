{
 "cells": [
  {
   "cell_type": "code",
   "execution_count": 4,
   "metadata": {},
   "outputs": [
    {
     "name": "stdout",
     "output_type": "stream",
     "text": [
      "trainhello\n"
     ]
    }
   ],
   "source": [
    "class Loader:\n",
    "    def __init__(self,train):\n",
    "        self.train=train\n",
    "    def print_train(self):\n",
    "        print(self.train.return_train('hello'))\n",
    "    \n",
    "class DataSet:\n",
    "    def __init__(self):\n",
    "        self.train='train'\n",
    "    def return_train(self,word):\n",
    "        return self.train+word\n",
    "\n",
    "\n",
    "ds=DataSet()\n",
    "loader=Loader(ds)\n",
    "loader.print_train()"
   ]
  },
  {
   "cell_type": "code",
   "execution_count": 6,
   "metadata": {},
   "outputs": [
    {
     "data": {
      "text/plain": [
       "'train'"
      ]
     },
     "execution_count": 6,
     "metadata": {},
     "output_type": "execute_result"
    }
   ],
   "source": [
    "ds.train"
   ]
  },
  {
   "cell_type": "code",
   "execution_count": null,
   "metadata": {},
   "outputs": [],
   "source": []
  }
 ],
 "metadata": {
  "kernelspec": {
   "display_name": "Python 3",
   "language": "python",
   "name": "python3"
  },
  "language_info": {
   "codemirror_mode": {
    "name": "ipython",
    "version": 3
   },
   "file_extension": ".py",
   "mimetype": "text/x-python",
   "name": "python",
   "nbconvert_exporter": "python",
   "pygments_lexer": "ipython3",
   "version": "3.6.8"
  }
 },
 "nbformat": 4,
 "nbformat_minor": 2
}
