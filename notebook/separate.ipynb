{
 "cells": [
  {
   "cell_type": "code",
   "execution_count": 2,
   "metadata": {},
   "outputs": [],
   "source": [
    "import SimpleITK as sitk\n",
    "import tensorflow.python\n",
    "import numpy as np\n",
    "\n",
    "import os"
   ]
  },
  {
   "cell_type": "code",
   "execution_count": 2,
   "metadata": {},
   "outputs": [],
   "source": [
    "def DICE(turelabel, result):\n",
    "    intersection=np.sum(np.minimum(np.equal(turelabel,result),turelabel))\n",
    "    union = np.count_nonzero(turelabel)+np.count_nonzero(result)\n",
    "    dice = 2 * intersection / union\n",
    "    return dice\n",
    "\n",
    "def averagenum(num):\n",
    "    nsum = 0\n",
    "    for i in range(len(num)):\n",
    "        nsum += num[i]\n",
    "    return nsum / len(num)"
   ]
  },
  {
   "cell_type": "markdown",
   "metadata": {},
   "source": [
    "## Make directories under slice/label or iamge/case_00.../ "
   ]
  },
  {
   "cell_type": "code",
   "execution_count": 97,
   "metadata": {
    "scrolled": false
   },
   "outputs": [
    {
     "ename": "FileExistsError",
     "evalue": "[WinError 183] 既に存在するファイルを作成することはできません。: 'E:\\\\slice\\\\label\\\\case_00001\\\\0'",
     "output_type": "error",
     "traceback": [
      "\u001b[1;31m---------------------------------------------------------------------------\u001b[0m",
      "\u001b[1;31mFileExistsError\u001b[0m                           Traceback (most recent call last)",
      "\u001b[1;32m<ipython-input-97-92fdf06c35e6>\u001b[0m in \u001b[0;36m<module>\u001b[1;34m\u001b[0m\n\u001b[0;32m      3\u001b[0m     \u001b[0mpath2\u001b[0m \u001b[1;33m=\u001b[0m \u001b[1;34m\"E:\\slice\\image\\case_00\"\u001b[0m\u001b[1;33m+\u001b[0m\u001b[0mstr\u001b[0m\u001b[1;33m(\u001b[0m\u001b[0mx\u001b[0m\u001b[1;33m)\u001b[0m\u001b[1;33m.\u001b[0m\u001b[0mzfill\u001b[0m\u001b[1;33m(\u001b[0m\u001b[1;36m3\u001b[0m\u001b[1;33m)\u001b[0m\u001b[1;33m\u001b[0m\u001b[1;33m\u001b[0m\u001b[0m\n\u001b[0;32m      4\u001b[0m     \u001b[1;32mfor\u001b[0m \u001b[0my\u001b[0m \u001b[1;32min\u001b[0m \u001b[0mrange\u001b[0m\u001b[1;33m(\u001b[0m\u001b[1;36m11\u001b[0m\u001b[1;33m)\u001b[0m\u001b[1;33m:\u001b[0m\u001b[1;33m\u001b[0m\u001b[1;33m\u001b[0m\u001b[0m\n\u001b[1;32m----> 5\u001b[1;33m         \u001b[0mos\u001b[0m\u001b[1;33m.\u001b[0m\u001b[0mmkdir\u001b[0m\u001b[1;33m(\u001b[0m\u001b[0mos\u001b[0m\u001b[1;33m.\u001b[0m\u001b[0mpath\u001b[0m\u001b[1;33m.\u001b[0m\u001b[0mjoin\u001b[0m\u001b[1;33m(\u001b[0m\u001b[0mpath1\u001b[0m\u001b[1;33m,\u001b[0m\u001b[0mstr\u001b[0m\u001b[1;33m(\u001b[0m\u001b[0my\u001b[0m\u001b[1;33m)\u001b[0m\u001b[1;33m)\u001b[0m\u001b[1;33m)\u001b[0m\u001b[1;33m\u001b[0m\u001b[1;33m\u001b[0m\u001b[0m\n\u001b[0m\u001b[0;32m      6\u001b[0m         \u001b[0mos\u001b[0m\u001b[1;33m.\u001b[0m\u001b[0mmkdir\u001b[0m\u001b[1;33m(\u001b[0m\u001b[0mos\u001b[0m\u001b[1;33m.\u001b[0m\u001b[0mpath\u001b[0m\u001b[1;33m.\u001b[0m\u001b[0mjoin\u001b[0m\u001b[1;33m(\u001b[0m\u001b[0mpath2\u001b[0m\u001b[1;33m,\u001b[0m\u001b[0mstr\u001b[0m\u001b[1;33m(\u001b[0m\u001b[0my\u001b[0m\u001b[1;33m)\u001b[0m\u001b[1;33m)\u001b[0m\u001b[1;33m)\u001b[0m\u001b[1;33m\u001b[0m\u001b[1;33m\u001b[0m\u001b[0m\n",
      "\u001b[1;31mFileExistsError\u001b[0m: [WinError 183] 既に存在するファイルを作成することはできません。: 'E:\\\\slice\\\\label\\\\case_00001\\\\0'"
     ]
    }
   ],
   "source": [
    "for x in range(210):\n",
    "    path1 = \"E:\\slice\\label\\case_00\"+str(x).zfill(3)\n",
    "    path2 = \"E:\\slice\\image\\case_00\"+str(x).zfill(3)\n",
    "    for y in range(11):\n",
    "        os.mkdir(os.path.join(path1,str(y)))\n",
    "        os.mkdir(os.path.join(path2,str(y)))"
   ]
  },
  {
   "cell_type": "markdown",
   "metadata": {},
   "source": [
    "### Check sagittal slice"
   ]
  },
  {
   "cell_type": "code",
   "execution_count": null,
   "metadata": {},
   "outputs": [],
   "source": [
    "#被験者00001を観察　sagittal\n",
    "seg_img = sitk.ReadImage(os.path.join(r\"C:\\Users\\higuchi\\Desktop\\kits19\\data\\case_00\"+str(1).zfill(3),\"segmentation.nii.gz\"))\n",
    "ct_img = sitk.ReadImage(os.path.join(r\"C:\\Users\\higuchi\\Desktop\\kits19\\data\\case_00\"+str(1).zfill(3),\"imaging.nii.gz\"))\n"
   ]
  },
  {
   "cell_type": "code",
   "execution_count": 11,
   "metadata": {},
   "outputs": [
    {
     "name": "stdout",
     "output_type": "stream",
     "text": [
      "190\n",
      "[92, 93, 94, 95, 96, 97, 98, 99, 100, 101, 102, 103, 104, 105, 106, 107, 108, 109, 110, 111, 112, 113, 114, 115, 116, 117, 118, 119, 120, 121, 122, 123, 124, 125, 126, 127, 128, 129, 130, 131, 132, 133, 134, 135, 136, 137, 138, 139, 140, 141, 142, 143, 144, 145, 146, 147, 148, 149, 150, 151, 152, 153, 154, 155, 156, 157, 158, 159, 160, 161, 162, 163, 164, 165, 166, 167, 168, 169, 170, 171, 172, 173, 174, 175, 176, 177, 178, 179, 180, 181, 182, 183, 184, 185, 186, 317, 318, 319, 320, 321, 322, 323, 324, 325, 326, 327, 328, 329, 330, 331, 332, 333, 334, 335, 336, 337, 338, 339, 340, 341, 342, 343, 344, 345, 346, 347, 348, 349, 350, 351, 352, 353, 354, 355, 356, 357, 358, 359, 360, 361, 362, 363, 364, 365, 366, 367, 368, 369, 370, 371, 372, 373, 374, 375, 376, 377, 378, 379, 380, 381, 382, 383, 384, 385, 386, 387, 388, 389, 390, 391, 392, 393, 394, 395, 396, 397, 398, 399, 400, 401, 402, 403, 404, 405, 406, 407, 408, 409, 410, 411]\n",
      "124\n",
      "[212, 213, 214, 215, 216, 217, 218, 219, 220, 221, 222, 223, 224, 225, 226, 227, 228, 229, 230, 231, 232, 233, 234, 235, 236, 237, 238, 239, 240, 241, 242, 243, 244, 245, 246, 247, 248, 249, 250, 251, 252, 253, 254, 255, 256, 257, 258, 259, 260, 261, 262, 263, 264, 265, 266, 267, 268, 269, 270, 271, 272, 273, 274, 275, 276, 277, 278, 279, 280, 281, 282, 283, 284, 285, 286, 287, 288, 289, 290, 291, 292, 293, 294, 295, 296, 297, 298, 299, 300, 301, 302, 303, 304, 305, 306, 307, 308, 309, 310, 311, 312, 313, 314, 315, 316, 317, 318, 319, 320, 321, 322, 323, 324, 325, 326, 327, 328, 329, 330, 331, 332, 333, 334, 335]\n",
      "217\n",
      "[181, 182, 183, 184, 185, 186, 187, 188, 189, 190, 191, 192, 193, 194, 195, 196, 197, 198, 199, 200, 201, 202, 203, 204, 205, 206, 207, 208, 209, 210, 211, 212, 213, 214, 215, 216, 217, 218, 219, 220, 221, 222, 223, 224, 225, 226, 227, 228, 229, 230, 231, 232, 233, 234, 235, 236, 237, 238, 239, 240, 241, 242, 243, 244, 245, 246, 247, 248, 249, 250, 251, 252, 253, 254, 255, 256, 257, 258, 259, 260, 261, 262, 263, 264, 265, 266, 267, 268, 269, 270, 271, 272, 273, 274, 275, 276, 277, 278, 279, 280, 281, 282, 283, 284, 285, 286, 287, 288, 289, 290, 291, 292, 293, 294, 295, 296, 297, 298, 299, 300, 301, 302, 303, 304, 305, 306, 307, 308, 309, 310, 311, 312, 313, 314, 315, 316, 317, 318, 319, 320, 321, 322, 323, 324, 325, 326, 327, 328, 329, 330, 331, 332, 333, 334, 335, 336, 337, 338, 339, 340, 341, 342, 343, 344, 345, 346, 347, 348, 349, 350, 351, 352, 353, 354, 355, 356, 357, 358, 359, 360, 361, 362, 363, 364, 365, 366, 367, 368, 369, 370, 371, 372, 373, 374, 375, 376, 377, 378, 379, 380, 381, 382, 383, 384, 385, 386, 387, 388, 389, 390, 391, 392, 393, 394, 395, 396, 397]\n"
     ]
    }
   ],
   "source": [
    "\n",
    "seg_array = sitk.GetArrayFromImage(seg_img)\n",
    "ct_array = sitk.GetArrayFromImage(ct_img)\n",
    "\n",
    "cnumber = len(seg_array[:,0,0])\n",
    "\n",
    "imagefragarray = []\n",
    "imageIndex = []\n",
    "for x in range(cnumber):\n",
    "    imagefragarray = seg_array[x,:,:]\n",
    "    #すべてが0でなければTrue,そうでないならFalseを返す\n",
    "    #一つでもTrueならTrueを返す。\n",
    "    if np.where(imagefragarray!=0,True,False).any():\n",
    "        imageIndex.append(x)\n",
    "\n",
    "print(len(imageIndex))\n",
    "print(imageIndex)\n",
    "\n",
    "cnumber = len(seg_array[0,:,0])\n",
    "\n",
    "imagefragarray = []\n",
    "imageIndex = []\n",
    "for y in range(cnumber):\n",
    "    imagefragarray = seg_array[:,y,:]\n",
    "    #すべてが0でなければTrue,そうでないならFalseを返す\n",
    "    #一つでもTrueならTrueを返す。\n",
    "    if np.where(imagefragarray!=0,True,False).any():\n",
    "        imageIndex.append(y)\n",
    "\n",
    "print(len(imageIndex))\n",
    "print(imageIndex)\n",
    "\n",
    "cnumber = len(seg_array[0,0,:])\n",
    "\n",
    "imagefragarray = []\n",
    "imageIndex = []\n",
    "for z in range(cnumber):\n",
    "    imagefragarray = seg_array[:,:,z]\n",
    "    #すべてが0でなければTrue,そうでないならFalseを返す\n",
    "    #一つでもTrueならTrueを返す。\n",
    "    if np.where(imagefragarray!=0,True,False).any():\n",
    "        imageIndex.append(z)\n",
    "\n",
    "print(len(imageIndex))\n",
    "print(imageIndex)"
   ]
  },
  {
   "cell_type": "code",
   "execution_count": 13,
   "metadata": {},
   "outputs": [],
   "source": [
    "import nibabel as nib\n",
    "\n",
    "seg = nib.load(os.path.join(r\"C:\\Users\\higuchi\\Desktop\\kits19\\data\\case_00\"+str(1).zfill(3),\"segmentation.nii.gz\"))\n",
    "vol = nib.load(os.path.join(r\"C:\\Users\\higuchi\\Desktop\\kits19\\data\\case_00\"+str(1).zfill(3),\"imaging.nii.gz\"))\n",
    "\n",
    "affine = vol.affine\n",
    "ct_array = vol.get_data()\n",
    "seg_array = seg.get_data()\n"
   ]
  },
  {
   "cell_type": "code",
   "execution_count": 14,
   "metadata": {},
   "outputs": [
    {
     "name": "stdout",
     "output_type": "stream",
     "text": [
      "217\n",
      "[181, 182, 183, 184, 185, 186, 187, 188, 189, 190, 191, 192, 193, 194, 195, 196, 197, 198, 199, 200, 201, 202, 203, 204, 205, 206, 207, 208, 209, 210, 211, 212, 213, 214, 215, 216, 217, 218, 219, 220, 221, 222, 223, 224, 225, 226, 227, 228, 229, 230, 231, 232, 233, 234, 235, 236, 237, 238, 239, 240, 241, 242, 243, 244, 245, 246, 247, 248, 249, 250, 251, 252, 253, 254, 255, 256, 257, 258, 259, 260, 261, 262, 263, 264, 265, 266, 267, 268, 269, 270, 271, 272, 273, 274, 275, 276, 277, 278, 279, 280, 281, 282, 283, 284, 285, 286, 287, 288, 289, 290, 291, 292, 293, 294, 295, 296, 297, 298, 299, 300, 301, 302, 303, 304, 305, 306, 307, 308, 309, 310, 311, 312, 313, 314, 315, 316, 317, 318, 319, 320, 321, 322, 323, 324, 325, 326, 327, 328, 329, 330, 331, 332, 333, 334, 335, 336, 337, 338, 339, 340, 341, 342, 343, 344, 345, 346, 347, 348, 349, 350, 351, 352, 353, 354, 355, 356, 357, 358, 359, 360, 361, 362, 363, 364, 365, 366, 367, 368, 369, 370, 371, 372, 373, 374, 375, 376, 377, 378, 379, 380, 381, 382, 383, 384, 385, 386, 387, 388, 389, 390, 391, 392, 393, 394, 395, 396, 397]\n",
      "124\n",
      "[212, 213, 214, 215, 216, 217, 218, 219, 220, 221, 222, 223, 224, 225, 226, 227, 228, 229, 230, 231, 232, 233, 234, 235, 236, 237, 238, 239, 240, 241, 242, 243, 244, 245, 246, 247, 248, 249, 250, 251, 252, 253, 254, 255, 256, 257, 258, 259, 260, 261, 262, 263, 264, 265, 266, 267, 268, 269, 270, 271, 272, 273, 274, 275, 276, 277, 278, 279, 280, 281, 282, 283, 284, 285, 286, 287, 288, 289, 290, 291, 292, 293, 294, 295, 296, 297, 298, 299, 300, 301, 302, 303, 304, 305, 306, 307, 308, 309, 310, 311, 312, 313, 314, 315, 316, 317, 318, 319, 320, 321, 322, 323, 324, 325, 326, 327, 328, 329, 330, 331, 332, 333, 334, 335]\n",
      "190\n",
      "[92, 93, 94, 95, 96, 97, 98, 99, 100, 101, 102, 103, 104, 105, 106, 107, 108, 109, 110, 111, 112, 113, 114, 115, 116, 117, 118, 119, 120, 121, 122, 123, 124, 125, 126, 127, 128, 129, 130, 131, 132, 133, 134, 135, 136, 137, 138, 139, 140, 141, 142, 143, 144, 145, 146, 147, 148, 149, 150, 151, 152, 153, 154, 155, 156, 157, 158, 159, 160, 161, 162, 163, 164, 165, 166, 167, 168, 169, 170, 171, 172, 173, 174, 175, 176, 177, 178, 179, 180, 181, 182, 183, 184, 185, 186, 317, 318, 319, 320, 321, 322, 323, 324, 325, 326, 327, 328, 329, 330, 331, 332, 333, 334, 335, 336, 337, 338, 339, 340, 341, 342, 343, 344, 345, 346, 347, 348, 349, 350, 351, 352, 353, 354, 355, 356, 357, 358, 359, 360, 361, 362, 363, 364, 365, 366, 367, 368, 369, 370, 371, 372, 373, 374, 375, 376, 377, 378, 379, 380, 381, 382, 383, 384, 385, 386, 387, 388, 389, 390, 391, 392, 393, 394, 395, 396, 397, 398, 399, 400, 401, 402, 403, 404, 405, 406, 407, 408, 409, 410, 411]\n"
     ]
    }
   ],
   "source": [
    "\n",
    "cnumber = len(seg_array[:,0,0])\n",
    "\n",
    "imagefragarray = []\n",
    "imageIndex = []\n",
    "for x in range(cnumber):\n",
    "    imagefragarray = seg_array[x,:,:]\n",
    "    #すべてが0でなければTrue,そうでないならFalseを返す\n",
    "    #一つでもTrueならTrueを返す。\n",
    "    if np.where(imagefragarray!=0,True,False).any():\n",
    "        imageIndex.append(x)\n",
    "\n",
    "print(len(imageIndex))\n",
    "print(imageIndex)\n",
    "\n",
    "cnumber = len(seg_array[0,:,0])\n",
    "\n",
    "imagefragarray = []\n",
    "imageIndex = []\n",
    "for y in range(cnumber):\n",
    "    imagefragarray = seg_array[:,y,:]\n",
    "    #すべてが0でなければTrue,そうでないならFalseを返す\n",
    "    #一つでもTrueならTrueを返す。\n",
    "    if np.where(imagefragarray!=0,True,False).any():\n",
    "        imageIndex.append(y)\n",
    "\n",
    "print(len(imageIndex))\n",
    "print(imageIndex)\n",
    "\n",
    "cnumber = len(seg_array[0,0,:])\n",
    "\n",
    "imagefragarray = []\n",
    "imageIndex = []\n",
    "for z in range(cnumber):\n",
    "    imagefragarray = seg_array[:,:,z]\n",
    "    #すべてが0でなければTrue,そうでないならFalseを返す\n",
    "    #一つでもTrueならTrueを返す。\n",
    "    if np.where(imagefragarray!=0,True,False).any():\n",
    "        imageIndex.append(z)\n",
    "\n",
    "print(len(imageIndex))\n",
    "print(imageIndex)"
   ]
  },
  {
   "cell_type": "code",
   "execution_count": 9,
   "metadata": {},
   "outputs": [],
   "source": [
    "#被験者00001を観察　coronal\n",
    "seg_img = sitk.ReadImage(os.path.join(r\"C:\\Users\\higuchi\\Desktop\\kits19\\data\\case_00\"+str(1).zfill(3),\"segmentation.nii.gz\"))\n",
    "ct_img = sitk.ReadImage(os.path.join(r\"C:\\Users\\higuchi\\Desktop\\kits19\\data\\case_00\"+str(1).zfill(3),\"imaging.nii.gz\"))\n",
    "\n",
    "seg_array = sitk.GetArrayFromImage(seg_img)\n",
    "ct_array = sitk.GetArrayFromImage(ct_img)\n",
    "\n",
    "cnumber = len(seg_array[0,:,0])\n",
    "\n",
    "imagefragarray = []\n",
    "imageIndex = []\n",
    "for y in range(cnumber):\n",
    "    imagefragarray = seg_array[:,y,:]\n",
    "    #すべてが0でなければTrue,そうでないならFalseを返す\n",
    "    #一つでもTrueならTrueを返す。\n",
    "    if np.where(imagefragarray!=0,True,False).any():\n",
    "        imageIndex.append(y)\n",
    "\n",
    "    "
   ]
  },
  {
   "cell_type": "code",
   "execution_count": 20,
   "metadata": {},
   "outputs": [
    {
     "name": "stdout",
     "output_type": "stream",
     "text": [
      "124\n",
      "[212, 213, 214, 215, 216, 217, 218, 219, 220, 221, 222, 223, 224, 225, 226, 227, 228, 229, 230, 231, 232, 233, 234, 235, 236, 237, 238, 239, 240, 241, 242, 243, 244, 245, 246, 247, 248, 249, 250, 251, 252, 253, 254, 255, 256, 257, 258, 259, 260, 261, 262, 263, 264, 265, 266, 267, 268, 269, 270, 271, 272, 273, 274, 275, 276, 277, 278, 279, 280, 281, 282, 283, 284, 285, 286, 287, 288, 289, 290, 291, 292, 293, 294, 295, 296, 297, 298, 299, 300, 301, 302, 303, 304, 305, 306, 307, 308, 309, 310, 311, 312, 313, 314, 315, 316, 317, 318, 319, 320, 321, 322, 323, 324, 325, 326, 327, 328, 329, 330, 331, 332, 333, 334, 335]\n"
     ]
    }
   ],
   "source": [
    "print(len(imageIndex))\n",
    "print(imageIndex)"
   ]
  },
  {
   "cell_type": "code",
   "execution_count": 46,
   "metadata": {},
   "outputs": [
    {
     "name": "stdout",
     "output_type": "stream",
     "text": [
      "(512, 602)\n",
      "(602, 512)\n"
     ]
    },
    {
     "data": {
      "image/png": "[encoded data removed]",
      "text/plain": [
       "<PIL.Image.Image image mode=L size=602x512 at 0x2B0C4716518>"
      ]
     },
     "execution_count": 46,
     "metadata": {},
     "output_type": "execute_result"
    }
   ],
   "source": [
    "#{\"case_id\": \"case_00001\", \"captured_pixel_width\": 0.798828125, \"captured_slice_thickness\": 0.5}\n",
    "from PIL import Image,ImageOps\n",
    "print(seg_array[:,260,:].shape)\n",
    "tmp_im=seg_array[:,260,:]\n",
    "tmp_im=np.where(tmp_im==1,127,tmp_im)\n",
    "tmp_im=np.where(tmp_im==2,255,tmp_im)\n",
    "pil_img = Image.fromarray(tmp_im)\n",
    "print(pil_img.size)\n",
    "#slicerに合わせるように回転したのち反転してる\n",
    "ImageOps.mirror(pil_img.rotate(270))"
   ]
  },
  {
   "cell_type": "code",
   "execution_count": 50,
   "metadata": {},
   "outputs": [
    {
     "name": "stdout",
     "output_type": "stream",
     "text": [
      "129\n",
      "[202, 203, 204, 205, 206, 207, 208, 209, 210, 211, 212, 213, 214, 215, 216, 217, 218, 219, 220, 221, 222, 223, 224, 225, 226, 227, 228, 229, 230, 231, 232, 233, 234, 235, 236, 237, 238, 239, 240, 241, 242, 243, 244, 245, 246, 247, 248, 249, 250, 251, 252, 253, 254, 255, 256, 257, 258, 259, 260, 261, 262, 263, 264, 265, 266, 267, 268, 269, 270, 271, 272, 273, 274, 275, 276, 277, 278, 279, 280, 281, 282, 283, 284, 285, 286, 287, 288, 289, 290, 291, 292, 293, 294, 295, 296, 297, 298, 299, 300, 301, 302, 303, 304, 305, 306, 307, 308, 309, 310, 311, 312, 313, 314, 315, 316, 317, 318, 319, 320, 321, 322, 323, 324, 325, 326, 327, 328, 329, 330]\n",
      "(512, 97)\n",
      "(97, 512)\n"
     ]
    },
    {
     "data": {
      "image/png": "[encoded data removed]",
      "text/plain": [
       "<PIL.Image.Image image mode=L size=512x97 at 0x2AF7AB1E5C0>"
      ]
     },
     "execution_count": 50,
     "metadata": {},
     "output_type": "execute_result"
    }
   ],
   "source": [
    "#被験者00037を観察\n",
    "#{\"case_id\": \"case_00037\", \"captured_pixel_width\": 0.9375, \"captured_slice_thickness\": 5.0},\n",
    "\n",
    "seg_img = sitk.ReadImage(os.path.join(r\"C:\\Users\\higuchi\\Desktop\\kits19\\data\\case_00\"+str(37).zfill(3),\"segmentation.nii.gz\"))\n",
    "ct_img = sitk.ReadImage(os.path.join(r\"C:\\Users\\higuchi\\Desktop\\kits19\\data\\case_00\"+str(37).zfill(3),\"imaging.nii.gz\"))\n",
    "\n",
    "seg_array = sitk.GetArrayFromImage(seg_img)\n",
    "ct_array = sitk.GetArrayFromImage(ct_img)\n",
    "\n",
    "cnumber = len(seg_array[0,:,0])\n",
    "\n",
    "imagefragarray = []\n",
    "imageIndex = []\n",
    "for y in range(cnumber):\n",
    "    imagefragarray = seg_array[:,y,:]\n",
    "    #すべてが0でなければTrue,そうでないならFalseを返す\n",
    "    #一つでもTrueならTrueを返す。\n",
    "    if np.where(imagefragarray!=0,True,False).any():\n",
    "        imageIndex.append(y)\n",
    "        \n",
    "print(len(imageIndex))\n",
    "print(imageIndex)\n",
    "\n",
    "#{\"case_id\": \"case_00001\", \"captured_pixel_width\": 0.798828125, \"captured_slice_thickness\": 0.5}\n",
    "from PIL import Image,ImageOps\n",
    "print(seg_array[:,260,:].shape)\n",
    "tmp_im=seg_array[:,260,:]\n",
    "tmp_im=np.where(tmp_im==1,127,tmp_im)\n",
    "tmp_im=np.where(tmp_im==2,255,tmp_im)\n",
    "pil_img = Image.fromarray(tmp_im)\n",
    "print(pil_img.size)\n",
    "#slicerに合わせるように回転したのち反転してる\n",
    "ImageOps.mirror(pil_img.rotate(270,expand=True))"
   ]
  },
  {
   "cell_type": "markdown",
   "metadata": {},
   "source": [
    "# Use nibabel\n",
    "nii画像は変換を行わないと、縦横比がよろしくないのでする。<br>"
   ]
  },
  {
   "cell_type": "code",
   "execution_count": 54,
   "metadata": {},
   "outputs": [],
   "source": [
    "import nibabel as nib\n",
    "\n",
    "spath=os.path.join(r\"C:\\Users\\higuchi\\Desktop\\kits19\\data\\case_00\"+str(37).zfill(3),\"segmentation.nii.gz\")\n",
    "cpath=os.path.join(r\"C:\\Users\\higuchi\\Desktop\\kits19\\data\\case_00\"+str(37).zfill(3),\"imaging.nii.gz\")\n",
    "\n",
    "\n"
   ]
  },
  {
   "cell_type": "code",
   "execution_count": 56,
   "metadata": {},
   "outputs": [],
   "source": [
    "vol = nib.load(cpath)\n",
    "seg = nib.load(spath)\n",
    "\n",
    "spacing = vol.affine\n",
    "vol = vol.get_data()\n",
    "seg = seg.get_data()\n",
    "seg = seg.astype(np.int32)\n"
   ]
  },
  {
   "cell_type": "code",
   "execution_count": 59,
   "metadata": {},
   "outputs": [
    {
     "data": {
      "text/plain": [
       "5.333333333333333"
      ]
     },
     "execution_count": 59,
     "metadata": {},
     "output_type": "execute_result"
    }
   ],
   "source": [
    "spc_ratio = np.abs(np.sum(spacing[2,:]))/np.abs(np.sum(spacing[0,:]))\n",
    "spc_ratio"
   ]
  },
  {
   "cell_type": "code",
   "execution_count": 58,
   "metadata": {},
   "outputs": [
    {
     "data": {
      "text/plain": [
       "array([[ 0.    ,  0.    , -0.9375,  0.    ],\n",
       "       [ 0.    , -0.9375,  0.    ,  0.    ],\n",
       "       [-5.    ,  0.    ,  0.    ,  0.    ],\n",
       "       [ 0.    ,  0.    ,  0.    ,  1.    ]])"
      ]
     },
     "execution_count": 58,
     "metadata": {},
     "output_type": "execute_result"
    }
   ],
   "source": [
    "spacing"
   ]
  },
  {
   "cell_type": "code",
   "execution_count": 60,
   "metadata": {},
   "outputs": [
    {
     "data": {
      "text/plain": [
       "(97, 512, 512)"
      ]
     },
     "execution_count": 60,
     "metadata": {},
     "output_type": "execute_result"
    }
   ],
   "source": [
    "seg.astype(np.int32).shape"
   ]
  },
  {
   "cell_type": "code",
   "execution_count": null,
   "metadata": {},
   "outputs": [],
   "source": [
    "#coronal\n",
    "\n",
    "    \n",
    "\n",
    "import scipy.misc\n",
    "if plane == plane_opts[1]:\n",
    "    # I use sum here to account for both legacy (incorrect) and \n",
    "    # fixed affine matrices\n",
    "    spc_ratio = np.abs(np.sum(spacing[2,:]))/np.abs(np.sum(spacing[0,:]))\n",
    "    for i in range(vol_ims.shape[1]):\n",
    "#         fpath = out_path / (\"{:05d}.png\".format(i))\n",
    "        vol_im = scipy.misc.imresize(\n",
    "            #拡大縮小する対象\n",
    "            vol_ims[:,i,:], (\n",
    "                #出力のサイズを指定\n",
    "                int(vol_ims.shape[0]*spc_ratio),\n",
    "                int(vol_ims.shape[2])\n",
    "            ), interp=\"bicubic\"\n",
    "        )\n",
    "        seg_im = scipy.misc.imresize(\n",
    "            seg_ims[:,i,:], (\n",
    "                int(vol_ims.shape[0]*spc_ratio),\n",
    "                int(vol_ims.shape[2])\n",
    "            ), interp=\"nearest\"\n",
    "        )\n",
    "        sim = scipy.misc.imresize(\n",
    "            seg[:,i,:], (\n",
    "                int(vol_ims.shape[0]*spc_ratio),\n",
    "                int(vol_ims.shape[2])\n",
    "            ), interp=\"nearest\"\n",
    "        )\n",
    "#         viz_im = overlay(vol_im, seg_im, sim, alpha)\n",
    "#         Image.imsave(str(fpath), viz_im)\n"
   ]
  },
  {
   "cell_type": "code",
   "execution_count": 57,
   "metadata": {},
   "outputs": [
    {
     "data": {
      "text/plain": [
       "(97, 512, 512)"
      ]
     },
     "execution_count": 57,
     "metadata": {},
     "output_type": "execute_result"
    }
   ],
   "source": [
    "seg.shape"
   ]
  },
  {
   "cell_type": "code",
   "execution_count": 15,
   "metadata": {},
   "outputs": [
    {
     "data": {
      "text/plain": [
       "(512, 512, 602)"
      ]
     },
     "execution_count": 15,
     "metadata": {},
     "output_type": "execute_result"
    }
   ],
   "source": [
    "image2array.shape"
   ]
  },
  {
   "cell_type": "markdown",
   "metadata": {},
   "source": [
    "## Separate slices"
   ]
  },
  {
   "cell_type": "code",
   "execution_count": 1,
   "metadata": {},
   "outputs": [
    {
     "ename": "NameError",
     "evalue": "name 'sitk' is not defined",
     "output_type": "error",
     "traceback": [
      "\u001b[1;31m---------------------------------------------------------------------------\u001b[0m",
      "\u001b[1;31mNameError\u001b[0m                                 Traceback (most recent call last)",
      "\u001b[1;32m<ipython-input-1-5d2e9be013fb>\u001b[0m in \u001b[0;36m<module>\u001b[1;34m\u001b[0m\n\u001b[0;32m      1\u001b[0m \u001b[1;32mfor\u001b[0m \u001b[0mq\u001b[0m \u001b[1;32min\u001b[0m \u001b[0mrange\u001b[0m\u001b[1;33m(\u001b[0m\u001b[1;36m210\u001b[0m\u001b[1;33m)\u001b[0m\u001b[1;33m:\u001b[0m\u001b[1;33m\u001b[0m\u001b[1;33m\u001b[0m\u001b[0m\n\u001b[0;32m      2\u001b[0m     \u001b[1;31m## Read image\u001b[0m\u001b[1;33m\u001b[0m\u001b[1;33m\u001b[0m\u001b[1;33m\u001b[0m\u001b[0m\n\u001b[1;32m----> 3\u001b[1;33m     \u001b[0mimage1\u001b[0m \u001b[1;33m=\u001b[0m \u001b[0msitk\u001b[0m\u001b[1;33m.\u001b[0m\u001b[0mReadImage\u001b[0m\u001b[1;33m(\u001b[0m\u001b[0mos\u001b[0m\u001b[1;33m.\u001b[0m\u001b[0mpath\u001b[0m\u001b[1;33m.\u001b[0m\u001b[0mjoin\u001b[0m\u001b[1;33m(\u001b[0m\u001b[1;34mr\"E:\\kits19\\data\\case_00\"\u001b[0m\u001b[1;33m+\u001b[0m\u001b[0mstr\u001b[0m\u001b[1;33m(\u001b[0m\u001b[0mq\u001b[0m\u001b[1;33m)\u001b[0m\u001b[1;33m.\u001b[0m\u001b[0mzfill\u001b[0m\u001b[1;33m(\u001b[0m\u001b[1;36m3\u001b[0m\u001b[1;33m)\u001b[0m\u001b[1;33m,\u001b[0m\u001b[1;34m\"segmentation.nii.gz\"\u001b[0m\u001b[1;33m)\u001b[0m\u001b[1;33m)\u001b[0m\u001b[1;33m\u001b[0m\u001b[1;33m\u001b[0m\u001b[0m\n\u001b[0m\u001b[0;32m      4\u001b[0m     \u001b[0mimage2\u001b[0m \u001b[1;33m=\u001b[0m \u001b[0msitk\u001b[0m\u001b[1;33m.\u001b[0m\u001b[0mReadImage\u001b[0m\u001b[1;33m(\u001b[0m\u001b[0mos\u001b[0m\u001b[1;33m.\u001b[0m\u001b[0mpath\u001b[0m\u001b[1;33m.\u001b[0m\u001b[0mjoin\u001b[0m\u001b[1;33m(\u001b[0m\u001b[1;34mr\"E:\\kits19\\data\\case_00\"\u001b[0m\u001b[1;33m+\u001b[0m\u001b[0mstr\u001b[0m\u001b[1;33m(\u001b[0m\u001b[0mq\u001b[0m\u001b[1;33m)\u001b[0m\u001b[1;33m.\u001b[0m\u001b[0mzfill\u001b[0m\u001b[1;33m(\u001b[0m\u001b[1;36m3\u001b[0m\u001b[1;33m)\u001b[0m\u001b[1;33m,\u001b[0m\u001b[1;34m\"imaging.nii.gz\"\u001b[0m\u001b[1;33m)\u001b[0m\u001b[1;33m)\u001b[0m\u001b[1;33m\u001b[0m\u001b[1;33m\u001b[0m\u001b[0m\n\u001b[0;32m      5\u001b[0m \u001b[1;33m\u001b[0m\u001b[0m\n",
      "\u001b[1;31mNameError\u001b[0m: name 'sitk' is not defined"
     ]
    }
   ],
   "source": [
    "for q in range(210):\n",
    "    ## Read image\n",
    "    image1 = nib.load(os.path.join(r\"E:\\kits19\\data\\case_00\"+str(q).zfill(3),\"segmentation.nii.gz\"))\n",
    "    image2 = nib.load(os.path.join(r\"E:\\kits19\\data\\case_00\"+str(q).zfill(3),\"imaging.nii.gz\"))\n",
    "\n",
    "    image1array = sitk.GetArrayFromImage(image1)\n",
    "    image2array = sitk.GetArrayFromImage(image2)\n",
    "\n",
    "    imagefragarray = []\n",
    "    imageIndex = []\n",
    "    count = 0\n",
    "    rnumber = len(image1array[0,0,:])\n",
    "    \n",
    "    #高さ方向の腎臓、腎臓がんの範囲特定\n",
    "    for x in range(rnumber):\n",
    "        imagefragarray = image1array[:,:,x]\n",
    "        if np.where(imagefragarray!=0,True,False).any():\n",
    "            imageIndex.append(x)\n",
    "    \n",
    "   # print(len(imageIndex))\n",
    "    number = int(len(imageIndex)/10)#特定されたスライスの枚数/10\n",
    "    snumber = -1 #スライスを10等分するための定数\n",
    "  #  print(number)\n",
    "\n",
    "    #スライスの保存（imageとsegmentation）\n",
    "    for i,t in enumerate(imageIndex):\n",
    "\n",
    "        image1frag = sitk.GetImageFromArray(image1array[:,:,t])\n",
    "        image2frag = sitk.GetImageFromArray(image2array[:,:,t])\n",
    "\n",
    "        if i%number==0 and snumber < 10:\n",
    "            snumber += 1\n",
    "\n",
    "       # print(\"saving cut to\", str(q)+\"imagefragment\"+str(i), end=\"...\", flush=True)\n",
    "\n",
    "        outfile1 = os.path.join(r\"E:\\slice\\label\\case_00\"+str(q).zfill(3),str(snumber))\n",
    "        outfile1 = os.path.join(outfile1,\"label{}.mha\".format(i))\n",
    "        outfile2 = os.path.join(r\"E:\\slice\\image\\case_00\"+str(q).zfill(3),str(snumber))\n",
    "        outfile2 = os.path.join(outfile2,\"image{}.mha\".format(i))\n",
    "\n",
    "        sitk.WriteImage(image1frag, outfile1, True)\n",
    "        sitk.WriteImage(image2frag, outfile2, True)\n",
    "        count += 1\n",
    "\n"
   ]
  },
  {
   "cell_type": "code",
   "execution_count": 71,
   "metadata": {},
   "outputs": [
    {
     "data": {
      "text/plain": [
       "101"
      ]
     },
     "execution_count": 71,
     "metadata": {},
     "output_type": "execute_result"
    }
   ],
   "source": [
    "image1 = sitk.ReadImage(os.path.join(r\"E:\\kits19\\data\\case_00\"+str(q).zfill(3),\"segmentation.nii.gz\"))\n",
    "image2 = sitk.ReadImage(os.path.join(r\"E:\\kits19\\data\\case_00\"+str(q).zfill(3),\"imaging.nii.gz\"))\n",
    "\n",
    "image1array = sitk.GetArrayFromImage(image1)\n",
    "image2array = sitk.GetArrayFromImage(image2)\n",
    "\n",
    "imagefragarray = []\n",
    "imageIndex = []\n",
    "count = 0\n",
    "\n",
    "len(image1array[1,1,:])"
   ]
  },
  {
   "cell_type": "code",
   "execution_count": 9,
   "metadata": {},
   "outputs": [
    {
     "name": "stdout",
     "output_type": "stream",
     "text": [
      "-3439690.562746807\n"
     ]
    }
   ],
   "source": [
    "array_tf = tf.convert_to_tensor(imagearray,dtype=tf.float64)\n",
    "pred_tf = tf.convert_to_tensor(predarray,dtype=tf.float64)\n",
    "\n",
    "epsilon = K.epsilon()\n",
    "\n",
    "result = tf.reduce_sum(array_tf,[0,1,2])\n",
    "result2 = tf.reduce_sum(imagearray.sum(0),0)\n",
    "result3 = tf.reduce_sum(result2,0)\n",
    "result_pow = tf.pow(tf.cast(result3,tf.float32),1.0/3.0)\n",
    "\n",
    "sess = tf.Session()\n",
    "\n",
    "#print(sess.run(result_pow))\n",
    "\n",
    "result_pow = tf.pow(result,1.0/3.0)\n",
    "\n",
    "#print(sess.run(result_pow))\n",
    "weight_y = result_pow / tf.reduce_sum(result_pow)\n",
    "#print(sess.run(1/weight_y))\n",
    "#print(sess.run(result))\n",
    "\n",
    "cross_entropy = tf.reduce_sum(1 / (weight_y + epsilon) * array_tf * tf.log(pred_tf + epsilon))\n",
    "print(sess.run(cross_entropy))"
   ]
  },
  {
   "cell_type": "code",
   "execution_count": 5,
   "metadata": {},
   "outputs": [],
   "source": [
    "image = sitk.ReadImage(r\"C:\\Users\\VMLAB\\Desktop\\kidney\\kits19\\data\\case_00000\\imaging.nii.gz\")\n",
    "imagearray = sitk.GetArrayFromImage(image)\n",
    "statfilter = sitk.LabelStati"
   ]
  },
  {
   "cell_type": "code",
   "execution_count": null,
   "metadata": {},
   "outputs": [],
   "source": []
  }
 ],
 "metadata": {
  "kernelspec": {
   "display_name": "Python 3",
   "language": "python",
   "name": "python3"
  },
  "language_info": {
   "codemirror_mode": {
    "name": "ipython",
    "version": 3
   },
   "file_extension": ".py",
   "mimetype": "text/x-python",
   "name": "python",
   "nbconvert_exporter": "python",
   "pygments_lexer": "ipython3",
   "version": "3.6.8"
  }
 },
 "nbformat": 4,
 "nbformat_minor": 2
}
