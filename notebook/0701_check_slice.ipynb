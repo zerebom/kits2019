{
 "cells": [
  {
   "cell_type": "code",
   "execution_count": 7,
   "metadata": {},
   "outputs": [],
   "source": [
    "import SimpleITK as sitk\n",
    "import tensorflow.python\n",
    "import numpy as np\n",
    "import nibabel as nib\n",
    "import scipy.misc\n",
    "from tqdm import tqdm_notebook\n",
    "import os\n",
    "import cv2\n",
    "from PIL import Image,ImageOps\n",
    "import matplotlib.pyplot as plt # 描画用\n",
    "import scipy.interpolate as interpolate\n",
    "\n",
    "seg_path = os.path.join(r\"C:\\Users\\higuchi\\Desktop\\kits19\\data\\case_00\"+str(5).zfill(3),\"segmentation.nii.gz\")\n",
    "vol_path = os.path.join(r\"C:\\Users\\higuchi\\Desktop\\kits19\\data\\case_00\"+str(5).zfill(3),\"imaging.nii.gz\")"
   ]
  },
  {
   "cell_type": "code",
   "execution_count": 19,
   "metadata": {},
   "outputs": [],
   "source": [
    "def load_data(cid, seg_path, vol_path):\n",
    "    raw_seg = nib.load(seg_path)\n",
    "    raw_vol = nib.load(vol_path)\n",
    "\n",
    "    affine = raw_vol.affine\n",
    "    raw_vol = raw_vol.get_data()\n",
    "    raw_seg = raw_seg.get_data()\n",
    "    return raw_vol, raw_seg\n",
    "\n",
    "\n",
    "def get_slice_idx(raw_seg):\n",
    "    rnumber = len(raw_seg[0, 0, :])\n",
    "    imagefragarray = []\n",
    "    sliceIndex = []\n",
    "\n",
    "    # 高さ方向の腎臓、腎臓がんの範囲特定\n",
    "    for x in range(rnumber):\n",
    "\n",
    "        imagefragarray = raw_seg[:, :, x]\n",
    "\n",
    "        if np.where(imagefragarray != 0, True, False).any():\n",
    "            sliceIndex.append(x)\n",
    "\n",
    "    return sliceIndex\n",
    "\n",
    "\n",
    "def divide_index(sliceIndex):\n",
    "    max_diff = 1\n",
    "    diff = 0\n",
    "    divide_idx = 0\n",
    "    for x in range(1, len(sliceIndex)):\n",
    "        diff = sliceIndex[x] - sliceIndex[x - 1]\n",
    "        if diff >= max_diff:\n",
    "            max_diff = diff\n",
    "            slice1 = sliceIndex[:x]\n",
    "            slice2 = sliceIndex[x:]\n",
    "            divide_Idx = sliceIndex[x - 1]\n",
    "    \n",
    "    return slice1,slice2\n",
    "\n",
    "\n",
    "    # 高さ方向の腎臓、腎臓がんの範囲特定\n",
    "    for x in range(rnumber):\n",
    "\n",
    "        imagefragarray = raw_seg[:, :, x]\n",
    "\n",
    "        if np.where(imagefragarray != 0, True, False).any():\n",
    "            sliceIndex.append(x)\n",
    "\n",
    "    return sliceIndex\n",
    "cid=5\n",
    "\n",
    "raw_vol, raw_seg =load_data(cid, seg_path, vol_path)\n"
   ]
  },
  {
   "cell_type": "code",
   "execution_count": 32,
   "metadata": {},
   "outputs": [],
   "source": [
    "sliceIndex = get_slice_idx(raw_seg)\n",
    "# slice1, slice2 =divide_index(sliceIndex)"
   ]
  },
  {
   "cell_type": "code",
   "execution_count": 29,
   "metadata": {},
   "outputs": [],
   "source": [
    "def divide_index(sliceIndex):\n",
    "    max_diff = 1\n",
    "    diff = 0\n",
    "    divide_idx = 0\n",
    "    for x in range(1, len(sliceIndex)):\n",
    "        print(x)\n",
    "        diff = sliceIndex[x] - sliceIndex[x - 1]\n",
    "        if diff > max_diff:\n",
    "            max_diff = diff\n",
    "            slice1 = sliceIndex[:x]\n",
    "            slice2 = sliceIndex[x:]\n",
    "            divide_Idx = sliceIndex[x - 1]\n",
    "            print(max_diff)\n",
    "    \n",
    "    return slice1,slice2"
   ]
  },
  {
   "cell_type": "code",
   "execution_count": null,
   "metadata": {},
   "outputs": [],
   "source": []
  }
 ],
 "metadata": {
  "kernelspec": {
   "display_name": "Python 3",
   "language": "python",
   "name": "python3"
  },
  "language_info": {
   "codemirror_mode": {
    "name": "ipython",
    "version": 3
   },
   "file_extension": ".py",
   "mimetype": "text/x-python",
   "name": "python",
   "nbconvert_exporter": "python",
   "pygments_lexer": "ipython3",
   "version": "3.6.8"
  }
 },
 "nbformat": 4,
 "nbformat_minor": 2
}
