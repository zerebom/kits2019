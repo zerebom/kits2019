{
 "cells": [
  {
   "cell_type": "code",
   "execution_count": 89,
   "metadata": {},
   "outputs": [],
   "source": [
    "channel=3\n",
    "\n",
    "range(-(channel//2),channel//2)\n",
    "import SimpleITK as sitk\n",
    "import numpy as np"
   ]
  },
  {
   "cell_type": "code",
   "execution_count": 69,
   "metadata": {},
   "outputs": [],
   "source": [
    "#バッチリストを作成してみる\n",
    "\"\"\"\n",
    "要件定義\n",
    "あるディレクトリ以下のすべてのパスが格納されているwholeリスト、\n",
    "その中の一部が格納されているbatch_listを引数に\n",
    "batch_listのある値の前後スライスをロードする\n",
    "\n",
    "\"\"\"\n",
    "whole_list=['a','b','c','d','e','f','g','h']\n",
    "# batch_list=['a','b','d','f','h']\n",
    "batch_list=whole_list\n",
    "\n"
   ]
  },
  {
   "cell_type": "code",
   "execution_count": null,
   "metadata": {},
   "outputs": [],
   "source": [
    "def m2a(path):\n",
    "    im=sitk.ReadImage(path)\n",
    "    return sitk.GetArrayFromImage(im)\n",
    "\n",
    "def make_batch(whole:'list',batch:'list',channel=3):\n",
    "    output=[]\n",
    "    for i in range(len(batch)):\n",
    "        mini=[0]*channel\n",
    "        for j,k in zip(range(channel),range(-(channel//2),(channel//2)+1)):\n",
    "            if 0<= i+k <len(batch):\n",
    "                mini[j]=m2a(str(whole[whole.index(batch[i+k])]))\n",
    "            else:\n",
    "                mini[j]=m2a(str(whole[whole.index(batch[i])]))\n",
    "        output.append(np.stack(mini,axis=-1))\n",
    "    return(np.stack(output))\n"
   ]
  },
  {
   "cell_type": "code",
   "execution_count": 143,
   "metadata": {},
   "outputs": [
    {
     "data": {
      "text/plain": [
       "(16, 256, 256, 1)"
      ]
     },
     "execution_count": 143,
     "metadata": {},
     "output_type": "execute_result"
    }
   ],
   "source": [
    "make_batch(batch_list,batch_list,channel=1).shape"
   ]
  },
  {
   "cell_type": "code",
   "execution_count": 134,
   "metadata": {},
   "outputs": [],
   "source": [
    "mini=make_batch(whole_list,batch_list,channel=5)"
   ]
  },
  {
   "cell_type": "code",
   "execution_count": 99,
   "metadata": {},
   "outputs": [],
   "source": [
    "from pathlib import Path\n",
    "\n",
    "whole_list=sorted(Path('../../data/input/max/sagittal').glob('*/image/front*.mha'))\n",
    "batch_list=sorted(Path('../../data/input/max/sagittal').glob('*/image/front*_2_image.mha'))[:16]\n",
    "\n"
   ]
  },
  {
   "cell_type": "code",
   "execution_count": 148,
   "metadata": {},
   "outputs": [
    {
     "data": {
      "text/plain": [
       "'hogefuga'"
      ]
     },
     "execution_count": 148,
     "metadata": {},
     "output_type": "execute_result"
    }
   ],
   "source": [
    "class hoge:\n",
    "    def __init__(self):\n",
    "        self.a='hoge'\n",
    "        self.b='fuga'        \n",
    "    def hogehoge(self,a,b):\n",
    "        return(a+b)\n",
    "    def fugafuga(self):\n",
    "        return self.hogehoge(self.a,self.b)\n",
    "    \n",
    "hoge1=hoge()    \n",
    "hoge1.fugafuga()"
   ]
  },
  {
   "cell_type": "code",
   "execution_count": null,
   "metadata": {},
   "outputs": [],
   "source": []
  }
 ],
 "metadata": {
  "kernelspec": {
   "display_name": "Python 3",
   "language": "python",
   "name": "python3"
  },
  "language_info": {
   "codemirror_mode": {
    "name": "ipython",
    "version": 3
   },
   "file_extension": ".py",
   "mimetype": "text/x-python",
   "name": "python",
   "nbconvert_exporter": "python",
   "pygments_lexer": "ipython3",
   "version": "3.6.8"
  }
 },
 "nbformat": 4,
 "nbformat_minor": 2
}
