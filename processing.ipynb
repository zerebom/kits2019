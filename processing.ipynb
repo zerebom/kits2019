{
 "cells": [
  {
   "cell_type": "markdown",
   "metadata": {},
   "source": [
    "## Calculate dice score"
   ]
  },
  {
   "cell_type": "code",
   "execution_count": 13,
   "metadata": {},
   "outputs": [],
   "source": [
    "import SimpleITK as sitk\n",
    "import numpy  as np\n",
    "import os\n",
    "from pathlib import Path"
   ]
  },
  {
   "cell_type": "code",
   "execution_count": 3,
   "metadata": {},
   "outputs": [
    {
     "ename": "FileExistsError",
     "evalue": "[Errno 17] File exists: '/Users/tanimotoryou/Documents/Documents/lab/slice/3D/case_00000'",
     "output_type": "error",
     "traceback": [
      "\u001b[0;31m---------------------------------------------------------------------------\u001b[0m",
      "\u001b[0;31mFileExistsError\u001b[0m                           Traceback (most recent call last)",
      "\u001b[0;32m<ipython-input-3-959821e3f23a>\u001b[0m in \u001b[0;36m<module>\u001b[0;34m\u001b[0m\n\u001b[1;32m      1\u001b[0m \u001b[0;32mfor\u001b[0m \u001b[0mx\u001b[0m \u001b[0;32min\u001b[0m \u001b[0mrange\u001b[0m\u001b[0;34m(\u001b[0m\u001b[0;36m210\u001b[0m\u001b[0;34m)\u001b[0m\u001b[0;34m:\u001b[0m\u001b[0;34m\u001b[0m\u001b[0;34m\u001b[0m\u001b[0m\n\u001b[0;32m----> 2\u001b[0;31m     \u001b[0mos\u001b[0m\u001b[0;34m.\u001b[0m\u001b[0mmkdir\u001b[0m\u001b[0;34m(\u001b[0m\u001b[0mPath\u001b[0m\u001b[0;34m(\u001b[0m\u001b[0;34m\"/Users/tanimotoryou/Documents/Documents/lab/slice/3D\"\u001b[0m\u001b[0;34m)\u001b[0m \u001b[0;34m/\u001b[0m \u001b[0;34m(\u001b[0m\u001b[0;34m\"case_00\"\u001b[0m\u001b[0;34m+\u001b[0m\u001b[0mstr\u001b[0m\u001b[0;34m(\u001b[0m\u001b[0mx\u001b[0m\u001b[0;34m)\u001b[0m\u001b[0;34m.\u001b[0m\u001b[0mzfill\u001b[0m\u001b[0;34m(\u001b[0m\u001b[0;36m3\u001b[0m\u001b[0;34m)\u001b[0m\u001b[0;34m)\u001b[0m\u001b[0;34m)\u001b[0m\u001b[0;34m\u001b[0m\u001b[0;34m\u001b[0m\u001b[0m\n\u001b[0m",
      "\u001b[0;31mFileExistsError\u001b[0m: [Errno 17] File exists: '/Users/tanimotoryou/Documents/Documents/lab/slice/3D/case_00000'"
     ]
    }
   ],
   "source": [
    "for x in range(210):\n",
    "    os.mkdir(Path(\"/Users/tanimotoryou/Documents/Documents/lab/slice/3D\") / (\"case_00\"+str(x).zfill(3)))"
   ]
  },
  {
   "cell_type": "markdown",
   "metadata": {},
   "source": [
    "## From 2D to 3D"
   ]
  },
  {
   "cell_type": "code",
   "execution_count": 18,
   "metadata": {},
   "outputs": [
    {
     "name": "stdout",
     "output_type": "stream",
     "text": [
      "(256, 256, 92)\n",
      "case00_000 done.\n"
     ]
    }
   ],
   "source": [
    "for x in range(210):\n",
    "    if x==5:\n",
    "        continue\n",
    "    count0 = -1\n",
    "    count1 = -1\n",
    "    image_kid =[]\n",
    "    image_can = []\n",
    "    result_kid = []\n",
    "    result_can = []\n",
    "    \n",
    "    for y in range(10):\n",
    "        p_seg = Path(r\"/Users/tanimotoryou/Documents/Documents/lab/slice/label/case_00\"+str(x).zfill(3)) / str(y)#正解データ\n",
    "        p_res = Path(r\"/Users/tanimotoryou/Documents/Documents/lab/slice/segmentation/case_00\"+str(x).zfill(3)) / str(y)#実験結果\n",
    "        p_img = Path(r\"/Users/tanimotoryou/Documents/Documents/lab/slice/image/case_00\"+str(x).zfill(3)) / str(y)#CT\n",
    "\n",
    "\n",
    "        segs_0 = sorted(list(p_seg.glob(\"label0*.mha\")))\n",
    "        segs_1 = sorted(list(p_seg.glob(\"label1*.mha\")))\n",
    "        reses_0 = sorted(list(p_res.glob(\"image0*.mha\")))\n",
    "        reses_1 = sorted(list(p_res.glob(\"image1*.mha\")))\n",
    "        imgs_0 = sorted(list(p_res.glob(\"image0*.mha\")))\n",
    "        imgs_1 = sorted(list(p_res.glob(\"image1*.mha\")))\n",
    "        \n",
    "        for seg_0,  res_0, img_0 in zip(segs_0, reses_0,imgs_0):\n",
    "            count0 += 1\n",
    "            seg0 = sitk.ReadImage(str(seg_0))\n",
    "            res0 = sitk.ReadImage(str(res_0))\n",
    "            img0 = sitk.ReadImage(str(img_0))\n",
    "            seg_array0 = sitk.GetArrayFromImage(seg0)\n",
    "            res_array0 = sitk.GetArrayFromImage(res0)\n",
    "            img_array0 = sitk.GetArrayFromImage(img0)\n",
    "            \n",
    "            if count0 > 0:\n",
    "                segment0 = np.dstack([segment0, seg_array0])\n",
    "                results0 = np.dstack([results0, res_array0])\n",
    "                image0 = np.dstack([image0, img_array0])\n",
    "            \n",
    "            else:\n",
    "                segment0 = seg_array0\n",
    "                results0 = res_array0\n",
    "                image0 = img_array0\n",
    "                \n",
    "        for seg_1,  res_1, img_1 in zip(segs_1, reses_1, imgs_1):\n",
    "            count1 += 1\n",
    "            seg1 = sitk.ReadImage(str(seg_1))\n",
    "            res1 = sitk.ReadImage(str(res_1))\n",
    "            img1 = sitk.ReadImage(str(img_1))\n",
    "            seg_array1 = sitk.GetArrayFromImage(seg1)\n",
    "            res_array1 = sitk.GetArrayFromImage(res1)\n",
    "            img_array1 = sitk.GetArrayFromImage(img1)\n",
    "            \n",
    "            if count1 > 0:\n",
    "                segment1 = np.dstack([segment1, seg_array1])\n",
    "                results1 = np.dstack([results1, res_array1])\n",
    "                image1 = np.dstack([image1, img_array1])\n",
    "            \n",
    "            else:\n",
    "                segment1 = seg_array1\n",
    "                results1 = res_array1\n",
    "                image1 = img_array1\n",
    "                \n",
    "        segment = np.concatenate([segment0, segment1], axis=-1)\n",
    "        results = np.concatenate([results0, results1], axis=-1)\n",
    "        image = np.concatenate([image0, image1], axis=-1)\n",
    "        \n",
    "        outfileSeg = Path(\"/Users/tanimotoryou/Documents/Documents/lab/slice/3D/case_00\"+str(x).zfill(3)) / \"label.mha\" \n",
    "        outfileRes = Path(\"/Users/tanimotoryou/Documents/Documents/lab/slice/3D/case_00\"+str(x).zfill(3)) / \"result.mha\" \n",
    "        outfileImg = Path(\"/Users/tanimotoryou/Documents/Documents/lab/slice/3D/case_00\"+str(x).zfill(3)) / \"image.mha\" \n",
    "        \n",
    "        seg_image = sitk.GetImageFromArray(segment)\n",
    "        res_image = sitk.GetImageFromArray(results)\n",
    "        img_image = sitk.GetImageFromArray(image)\n",
    "        \n",
    "        seg_image.SetOrigin(seg_image.GetOrigin())\n",
    "        res_image.SetOrigin(res_image.GetOrigin())\n",
    "        img_image.SetOrigin(img_image.GetOrigin())\n",
    "        \n",
    "        seg_image.SetSpacing(seg_image.GetSpacing())\n",
    "        res_image.SetSpacing(res_image.GetSpacing())\n",
    "        img_image.SetSpacing(img_image.GetSpacing())\n",
    "        \n",
    "        sitk.WriteImage(seg_image, str(outfileSeg), True)\n",
    "        sitk.WriteImage(res_image, str(outfileRes), True)\n",
    "        sitk.WriteImage(img_image, str(outfileImg), True)\n",
    "    print(segment.shape)\n",
    "    print(\"case00_\"+str(x).zfill(3) + \" done.\")"
   ]
  },
  {
   "cell_type": "markdown",
   "metadata": {},
   "source": [
    "## Caluculate Dice"
   ]
  },
  {
   "cell_type": "code",
   "execution_count": 2,
   "metadata": {},
   "outputs": [],
   "source": [
    "def DICE(turelabel, result):\n",
    "    intersection=np.sum(np.minimum(np.equal(turelabel,result),turelabel))\n",
    "    union = np.count_nonzero(turelabel)+np.count_nonzero(result)\n",
    "    dice = 2 * intersection / union\n",
    "   # print(\"intersection: \",2* intersection)\n",
    "    #print(\"union: \", union)\n",
    "    return dice\n",
    "\n",
    "def averagenum(num):\n",
    "    if len(num) == 0:\n",
    "        return 1.0\n",
    "    \n",
    "    else: \n",
    "        nsum = 0\n",
    "        for i in range(len(num)):\n",
    "            nsum += num[i]\n",
    "\n",
    "        return nsum / len(num)"
   ]
  },
  {
   "cell_type": "code",
   "execution_count": 12,
   "metadata": {},
   "outputs": [
    {
     "name": "stdout",
     "output_type": "stream",
     "text": [
      "case _00000<br>\n",
      "whole_dice: 1.0<br>\n",
      "kidney dice: 1.0<br>\n",
      "cancer dice: 1.0<br>\n",
      "\n",
      "case _00001<br>\n",
      "whole_dice: 1.0<br>\n",
      "kidney dice: 1.0<br>\n",
      "cancer dice: 1.0<br>\n",
      "\n",
      "case _00002<br>\n",
      "whole_dice: 1.0<br>\n",
      "kidney dice: 1.0<br>\n",
      "cancer dice: 1.0<br>\n",
      "\n",
      "case _00003<br>\n",
      "whole_dice: 1.0<br>\n",
      "kidney dice: 1.0<br>\n",
      "cancer dice: 1.0<br>\n",
      "\n",
      "case _00004<br>\n",
      "whole_dice: 1.0<br>\n",
      "kidney dice: 1.0<br>\n",
      "cancer dice: 1.0<br>\n",
      "\n",
      "case _00006<br>\n",
      "whole_dice: 1.0<br>\n",
      "kidney dice: 1.0<br>\n",
      "cancer dice: 1.0<br>\n",
      "\n",
      "case _00007<br>\n",
      "whole_dice: 1.0<br>\n",
      "kidney dice: 1.0<br>\n",
      "cancer dice: 1.0<br>\n",
      "\n",
      "case _00008<br>\n",
      "whole_dice: 0.999999820371038<br>\n",
      "kidney dice: 0.999999705331062<br>\n",
      "cancer dice: 1.0<br>\n",
      "\n",
      "case _00009<br>\n",
      "whole_dice: 1.0<br>\n",
      "kidney dice: 1.0<br>\n",
      "cancer dice: 1.0<br>\n",
      "\n",
      "case _00010<br>\n",
      "whole_dice: 1.0<br>\n",
      "kidney dice: 1.0<br>\n",
      "cancer dice: 1.0<br>\n",
      "\n",
      "case _00011<br>\n",
      "whole_dice: 1.0<br>\n",
      "kidney dice: 1.0<br>\n",
      "cancer dice: 1.0<br>\n",
      "\n",
      "case _00012<br>\n",
      "whole_dice: 1.0<br>\n",
      "kidney dice: 1.0<br>\n",
      "cancer dice: 1.0<br>\n",
      "\n",
      "case _00013<br>\n",
      "whole_dice: 1.0<br>\n",
      "kidney dice: 1.0<br>\n",
      "cancer dice: 1.0<br>\n",
      "\n",
      "case _00014<br>\n",
      "whole_dice: 1.0<br>\n",
      "kidney dice: 1.0<br>\n",
      "cancer dice: 1.0<br>\n",
      "\n",
      "case _00015<br>\n",
      "whole_dice: 1.0<br>\n",
      "kidney dice: 1.0<br>\n",
      "cancer dice: 1.0<br>\n",
      "\n",
      "case _00016<br>\n",
      "whole_dice: 1.0<br>\n",
      "kidney dice: 1.0<br>\n",
      "cancer dice: 1.0<br>\n",
      "\n",
      "case _00017<br>\n",
      "whole_dice: 1.0<br>\n",
      "kidney dice: 1.0<br>\n",
      "cancer dice: 1.0<br>\n",
      "\n",
      "case _00018<br>\n",
      "whole_dice: 1.0<br>\n",
      "kidney dice: 1.0<br>\n",
      "cancer dice: 1.0<br>\n",
      "\n",
      "case _00019<br>\n",
      "whole_dice: 1.0<br>\n",
      "kidney dice: 1.0<br>\n",
      "cancer dice: 1.0<br>\n",
      "\n",
      "case _00020<br>\n",
      "whole_dice: 1.0<br>\n",
      "kidney dice: 1.0<br>\n",
      "cancer dice: 1.0<br>\n",
      "\n",
      "case _00021<br>\n",
      "whole_dice: 1.0<br>\n",
      "kidney dice: 1.0<br>\n",
      "cancer dice: 1.0<br>\n",
      "\n",
      "case _00022<br>\n",
      "whole_dice: 1.0<br>\n",
      "kidney dice: 1.0<br>\n",
      "cancer dice: 1.0<br>\n",
      "\n",
      "case _00023<br>\n",
      "whole_dice: 1.0<br>\n",
      "kidney dice: 1.0<br>\n",
      "cancer dice: 1.0<br>\n",
      "\n",
      "case _00024<br>\n",
      "whole_dice: 1.0<br>\n",
      "kidney dice: 1.0<br>\n",
      "cancer dice: 1.0<br>\n",
      "\n",
      "case _00025<br>\n",
      "whole_dice: 0.9999995862108918<br>\n",
      "kidney dice: 0.9999996581810102<br>\n",
      "cancer dice: 0.9999994758511522<br>\n",
      "\n",
      "case _00026<br>\n",
      "whole_dice: 1.0<br>\n",
      "kidney dice: 1.0<br>\n",
      "cancer dice: 1.0<br>\n",
      "\n",
      "case _00027<br>\n",
      "whole_dice: 1.0<br>\n",
      "kidney dice: 1.0<br>\n",
      "cancer dice: 1.0<br>\n",
      "\n",
      "case _00028<br>\n",
      "whole_dice: 1.0<br>\n",
      "kidney dice: 1.0<br>\n",
      "cancer dice: 1.0<br>\n",
      "\n",
      "case _00029<br>\n",
      "whole_dice: 1.0<br>\n",
      "kidney dice: 1.0<br>\n",
      "cancer dice: 1.0<br>\n",
      "\n",
      "average whole: 0.9999999795373079<br>\n",
      "average kidney: 0.9999999780521405<br>\n",
      "average cancer: 0.9999999819259018<br>\n"
     ]
    }
   ],
   "source": [
    "##caluculate 3D\n",
    "\n",
    "whole_dice=[]\n",
    "kidney_dice = []\n",
    "cancer_dice = []\n",
    "skipcount = 0\n",
    "\n",
    "for x in range(30):\n",
    "    if x==5:\n",
    "        skipcount += 1\n",
    "        continue\n",
    "    count = -1\n",
    "    image_kid =[]\n",
    "    image_can = []\n",
    "    result_kid = []\n",
    "    result_can = []\n",
    "    \n",
    "    image=sitk.ReadImage(os.path.join(\"/Users/tanimotoryou/Documents/Documents/lab/slice/3D/case_00\"+str(x).zfill(3),\"label.mha\"))\n",
    "    result=sitk.ReadImage(os.path.join(\"/Users/tanimotoryou/Documents/Documents/lab/slice/3D/case_00\"+str(x).zfill(3),\"result.mha\"))\n",
    "    image_arry = sitk.GetArrayFromImage(image)\n",
    "    result_arry = sitk.GetArrayFromImage(result)\n",
    "    #print(np.sum(np.where(result_arry==2,True,False)))\n",
    "\n",
    "\n",
    "    whole_dice.append(DICE(image_arry,result_arry))\n",
    "\n",
    "    image_kid = np.where(image_arry==1,1,0)\n",
    "    image_can = np.where(image_arry==2,2,0)\n",
    "\n",
    "    result_kid = np.where(result_arry==1,1,0)\n",
    "    result_can = np.where(result_arry==2,2,0)\n",
    "\n",
    "        \n",
    "    kidney_dice.append(DICE(image_kid,result_kid))\n",
    "    cancer_dice.append(DICE(image_can,result_can))\n",
    "    \n",
    "\n",
    "    print(\"case _00\"+str(x).zfill(3)+\"<br>\")\n",
    "    print(\"whole_dice: {}<br>\".format(whole_dice[x-skipcount]))\n",
    "    print(\"kidney dice: {}<br>\".format(kidney_dice[x-skipcount]))\n",
    "    print(\"cancer dice: {}<br>\".format(cancer_dice[x-skipcount]))\n",
    "    print(\"\")\n",
    "    \n",
    "print(\"average whole: {}<br>\".format(averagenum(whole_dice)))\n",
    "print(\"average kidney: {}<br>\".format(averagenum(kidney_dice)))\n",
    "print(\"average cancer: {}<br>\".format(averagenum(cancer_dice)))"
   ]
  },
  {
   "cell_type": "code",
   "execution_count": 5,
   "metadata": {},
   "outputs": [
    {
     "name": "stderr",
     "output_type": "stream",
     "text": [
      "/Users/tanimotoryou/anaconda3/lib/python3.7/site-packages/ipykernel_launcher.py:4: RuntimeWarning: invalid value encountered in double_scalars\n",
      "  after removing the cwd from sys.path.\n"
     ]
    },
    {
     "name": "stdout",
     "output_type": "stream",
     "text": [
      "average whole: nan\n",
      "[nan, nan, nan, nan, nan, nan, nan, nan, nan, nan, nan, nan, 1.0, 1.0, 1.0, 1.0, 1.0, 1.0, 1.0, 1.0, 1.0, 1.0, 1.0, 1.0, 1.0, 1.0, 1.0, 1.0, 1.0, 1.0, 1.0, 1.0, 1.0, 1.0, 1.0, 1.0, 1.0, 1.0, 1.0, 1.0, 1.0, 1.0, 1.0, 1.0, 1.0, 1.0, 1.0, 1.0, 1.0, 1.0, 1.0, 1.0, 1.0, 1.0, 1.0, 1.0, 1.0, 1.0, 1.0, 1.0, 1.0, 1.0, 1.0, 1.0, 1.0, 1.0, 1.0, 1.0, 1.0, 1.0, 1.0, 1.0, 1.0, 1.0, 1.0, 1.0, 1.0, 1.0, 1.0, 1.0, 1.0, 1.0, 1.0, 1.0, 1.0, 1.0, 1.0, 1.0, 1.0, 1.0, 1.0, 1.0, 1.0, 1.0, 1.0, 1.0, 1.0, 0.9977628635346756, 1.0, 1.0, nan, nan, nan, nan, nan, nan, nan, nan, nan]\n",
      "average kidney:  0.9999996581810102\n",
      "every kidney\n",
      "[0.9999996581810102]\n",
      "average cancer:  0.9999994758511522\n",
      "every cancer\n",
      "[0.9999994758511522]\n"
     ]
    }
   ],
   "source": [
    "##caluculate 2D\n",
    "whole_dice=[]\n",
    "kidney_dice = []\n",
    "cancer_dice = []\n",
    "\n",
    "\n",
    "for x in range(25,26):\n",
    "    if x==5:\n",
    "        continue\n",
    "    count = -1\n",
    "    image_kid =[]\n",
    "    image_can = []\n",
    "    result_kid = []\n",
    "    result_can = []\n",
    "    \n",
    "    for y in range(10):\n",
    "        p_seg = Path(r\"/Users/tanimotoryou/Documents/Documents/lab/slice/label/case_00\"+str(x).zfill(3)) / str(y)#正解データ\n",
    "        p_res = Path(r\"/Users/tanimotoryou/Documents/Documents/lab/slice/segmentation/case_00\"+str(x).zfill(3)) / str(y)#実験結果\n",
    "        \n",
    "        m = sorted(list(p_seg.glob(\"*.mha\")))\n",
    "        l = sorted(list(p_res.glob(\"*.mha\")))\n",
    "        \n",
    "        for a, b in zip(m, l):\n",
    "            count += 1\n",
    "            \n",
    "            \n",
    "\n",
    "            #print(a)\n",
    "            #print(b)\n",
    "            image=sitk.ReadImage(str(a))\n",
    "            result=sitk.ReadImage(str(b))\n",
    "            image_arry = sitk.GetArrayFromImage(image)\n",
    "            result_arry = sitk.GetArrayFromImage(result)\n",
    "            #print(np.sum(np.where(result_arry==2,True,False)))\n",
    "            \n",
    "            \n",
    "            whole_dice.append(DICE(image_arry,result_arry))\n",
    "\n",
    "            image_k = np.where(image_arry==1,1,0)\n",
    "            image_c = np.where(image_arry==2,2,0)\n",
    "\n",
    "            result_k = np.where(result_arry==1,1,0)\n",
    "            result_c = np.where(result_arry==2,2,0)\n",
    "            \n",
    "            if count > 0:\n",
    "                image_kid = np.dstack([image_kid, image_k])\n",
    "                image_can = np.dstack([image_can, image_c])\n",
    "                result_kid = np.dstack([result_kid, result_k])\n",
    "                result_can = np.dstack([result_can, result_c])\n",
    "               \n",
    "            else:\n",
    "                image_kid = image_k\n",
    "                image_can = image_c\n",
    "                result_kid = result_k\n",
    "                result_can = result_c\n",
    "            \n",
    "        #print(np.sum(np.where(result_can==2,True,False)))\n",
    "    #print(image_kid.shape)\n",
    "    kidney_dice.append(DICE(image_kid,result_kid))\n",
    "    cancer_dice.append(DICE(image_can,result_can))\n",
    "    \n",
    "#print(count)\n",
    "#print(wholedice)\n",
    "print(\"average whole:\",averagenum(whole_dice))\n",
    "#print(\"every whole\")\n",
    "print(whole_dice)\n",
    "print(\"average kidney: \",averagenum(kidney_dice))\n",
    "print(\"every kidney\")\n",
    "print(kidney_dice)\n",
    "print(\"average cancer: \",averagenum(cancer_dice))\n",
    "print(\"every cancer\")\n",
    "print(cancer_dice)"
   ]
  },
  {
   "cell_type": "code",
   "execution_count": 17,
   "metadata": {},
   "outputs": [
    {
     "ename": "RuntimeError",
     "evalue": "Exception thrown in SimpleITK ReadImage: /scratch/dashboard/SimpleITK-OSX10.6-x86_64-pkg/SimpleITK/Code/IO/src/sitkImageReaderBase.cxx:99:\nsitk::ERROR: The file \"C:\\Users\\VMLAB\\Desktop\\kidney\\kits19\\data\\case_00000\\segmentation.nii.gz\" does not exist.",
     "output_type": "error",
     "traceback": [
      "\u001b[0;31m---------------------------------------------------------------------------\u001b[0m",
      "\u001b[0;31mRuntimeError\u001b[0m                              Traceback (most recent call last)",
      "\u001b[0;32m<ipython-input-17-575731b96d92>\u001b[0m in \u001b[0;36m<module>\u001b[0;34m\u001b[0m\n\u001b[1;32m     13\u001b[0m     \u001b[0mlabelpath\u001b[0m\u001b[0;34m=\u001b[0m\u001b[0;34mr\"C:\\Users\\VMLAB\\Desktop\\kidney\\kits19\\data\\case_00{}\\segmentation.nii.gz\"\u001b[0m\u001b[0;34m.\u001b[0m\u001b[0mformat\u001b[0m\u001b[0;34m(\u001b[0m\u001b[0mnum\u001b[0m\u001b[0;34m)\u001b[0m\u001b[0;34m\u001b[0m\u001b[0;34m\u001b[0m\u001b[0m\n\u001b[1;32m     14\u001b[0m     \u001b[0mresultpath\u001b[0m\u001b[0;34m=\u001b[0m\u001b[0;34mr\"C:\\Users\\VMLAB\\Desktop\\kidney\\segmentedData\\nonmask_case_00{}.mha\"\u001b[0m\u001b[0;34m.\u001b[0m\u001b[0mformat\u001b[0m\u001b[0;34m(\u001b[0m\u001b[0mnum\u001b[0m\u001b[0;34m)\u001b[0m\u001b[0;34m\u001b[0m\u001b[0;34m\u001b[0m\u001b[0m\n\u001b[0;32m---> 15\u001b[0;31m     \u001b[0mimage\u001b[0m\u001b[0;34m=\u001b[0m\u001b[0msitk\u001b[0m\u001b[0;34m.\u001b[0m\u001b[0mReadImage\u001b[0m\u001b[0;34m(\u001b[0m\u001b[0mlabelpath\u001b[0m\u001b[0;34m)\u001b[0m\u001b[0;34m\u001b[0m\u001b[0;34m\u001b[0m\u001b[0m\n\u001b[0m\u001b[1;32m     16\u001b[0m     \u001b[0mresult\u001b[0m\u001b[0;34m=\u001b[0m\u001b[0msitk\u001b[0m\u001b[0;34m.\u001b[0m\u001b[0mReadImage\u001b[0m\u001b[0;34m(\u001b[0m\u001b[0mresultpath\u001b[0m\u001b[0;34m)\u001b[0m\u001b[0;34m\u001b[0m\u001b[0;34m\u001b[0m\u001b[0m\n\u001b[1;32m     17\u001b[0m     \u001b[0;31m#whole\u001b[0m\u001b[0;34m\u001b[0m\u001b[0;34m\u001b[0m\u001b[0;34m\u001b[0m\u001b[0m\n",
      "\u001b[0;32m~/anaconda3/lib/python3.7/site-packages/SimpleITK/SimpleITK.py\u001b[0m in \u001b[0;36mReadImage\u001b[0;34m(*args)\u001b[0m\n\u001b[1;32m   8874\u001b[0m \u001b[0;34m\u001b[0m\u001b[0m\n\u001b[1;32m   8875\u001b[0m     \"\"\"\n\u001b[0;32m-> 8876\u001b[0;31m     \u001b[0;32mreturn\u001b[0m \u001b[0m_SimpleITK\u001b[0m\u001b[0;34m.\u001b[0m\u001b[0mReadImage\u001b[0m\u001b[0;34m(\u001b[0m\u001b[0;34m*\u001b[0m\u001b[0margs\u001b[0m\u001b[0;34m)\u001b[0m\u001b[0;34m\u001b[0m\u001b[0;34m\u001b[0m\u001b[0m\n\u001b[0m\u001b[1;32m   8877\u001b[0m \u001b[0;32mclass\u001b[0m \u001b[0mImageViewer\u001b[0m\u001b[0;34m(\u001b[0m\u001b[0m_object\u001b[0m\u001b[0;34m)\u001b[0m\u001b[0;34m:\u001b[0m\u001b[0;34m\u001b[0m\u001b[0;34m\u001b[0m\u001b[0m\n\u001b[1;32m   8878\u001b[0m     \"\"\"\n",
      "\u001b[0;31mRuntimeError\u001b[0m: Exception thrown in SimpleITK ReadImage: /scratch/dashboard/SimpleITK-OSX10.6-x86_64-pkg/SimpleITK/Code/IO/src/sitkImageReaderBase.cxx:99:\nsitk::ERROR: The file \"C:\\Users\\VMLAB\\Desktop\\kidney\\kits19\\data\\case_00000\\segmentation.nii.gz\" does not exist."
     ]
    }
   ],
   "source": [
    "##slower\n",
    "num_arry=['000','001','002','003','004',\"005\",\"006\"]\n",
    "whole_dice=[]\n",
    "kidney_dice = []\n",
    "cancer_dice = []\n",
    "\n",
    "image_arry_kid = []\n",
    "result_kid = []\n",
    "image_arry_can = []\n",
    "result_can = []\n",
    "\n",
    "for num in num_arry:\n",
    "    labelpath=r\"C:\\Users\\VMLAB\\Desktop\\kidney\\kits19\\data\\case_00{}\\segmentation.nii.gz\".format(num)\n",
    "    resultpath=r\"C:\\Users\\VMLAB\\Desktop\\kidney\\segmentedData\\nonmask_case_00{}.mha\".format(num)\n",
    "    image=sitk.ReadImage(labelpath)\n",
    "    result=sitk.ReadImage(resultpath)\n",
    "    #whole\n",
    "    image_arry = sitk.GetArrayFromImage(image)\n",
    "    result_arry = sitk.GetArrayFromImage(result)\n",
    "    whole_dice.append(DICE(image_arry,result_arry))\n",
    "    \n",
    "    for (images,results) in zip(image_arry,result_array):\n",
    "        for l1,m1 in zip(images,results):\n",
    "            for l,m in zip(l1,m1):\n",
    "                if l == 1:\n",
    "                    image_arry_kid.append(l)\n",
    "                else:\n",
    "                    image_arry_kid.append(0)\n",
    "\n",
    "                if l == 2:\n",
    "                    image_arry_can.append(2)\n",
    "                else:\n",
    "                    iamge_arry_can.append(0)\n",
    "\n",
    "                if m == 1:\n",
    "                    result_kid.append(l)\n",
    "                else:\n",
    "                    result_kid.append(0)\n",
    "\n",
    "                if m == 1:\n",
    "                    result_can.append(2)\n",
    "                else:\n",
    "                    result_can.append(0)\n",
    "\n",
    "\n",
    "    kidney_dice.append(DICE(image_arry_kid,result_kid))\n",
    "    cancer_dice.append(DICE(image_arry_can,result_can))\n",
    "    \n",
    "#print(wholedice)\n",
    "print(\"average whole:\",averagenum(whole_dice))\n",
    "print(\"every whole\")\n",
    "print(whole_dice)\n",
    "print(\"average kidney: \",averagenum(kidney_dice))\n",
    "print(\"every kidney\")\n",
    "print(kidney_dice)\n",
    "print(\"average cancer: \",averagenum(cancer_dice))\n",
    "print(\"every cancer\")\n",
    "print(cancer_dice)"
   ]
  },
  {
   "cell_type": "markdown",
   "metadata": {},
   "source": [
    "## 2DUnet result\n",
    "case _00000<br>\n",
    "whole_dice: 1.0<br>\n",
    "kidney dice: 1.0<br>\n",
    "cancer dice: 1.0<br>\n",
    "\n",
    "case _00001<br>\n",
    "whole_dice: 1.0<br>\n",
    "kidney dice: 1.0<br>\n",
    "cancer dice: 1.0<br>\n",
    "\n",
    "case _00002<br>\n",
    "whole_dice: 1.0<br>\n",
    "kidney dice: 1.0<br>\n",
    "cancer dice: 1.0<br>\n",
    "\n",
    "case _00003<br>\n",
    "whole_dice: 1.0<br>\n",
    "kidney dice: 1.0<br>\n",
    "cancer dice: 1.0<br>\n",
    "\n",
    "case _00004<br>\n",
    "whole_dice: 1.0<br>\n",
    "kidney dice: 1.0<br>\n",
    "cancer dice: 1.0<br>\n",
    "\n",
    "case _00006<br>\n",
    "whole_dice: 1.0<br>\n",
    "kidney dice: 1.0<br>\n",
    "cancer dice: 1.0<br>\n",
    "\n",
    "case _00007<br>\n",
    "whole_dice: 1.0<br>\n",
    "kidney dice: 1.0<br>\n",
    "cancer dice: 1.0<br>\n",
    "\n",
    "case _00008<br>\n",
    "whole_dice: 0.999999820371038<br>\n",
    "kidney dice: 0.999999705331062<br>\n",
    "cancer dice: 1.0<br>\n",
    "\n",
    "case _00009<br>\n",
    "whole_dice: 1.0<br>\n",
    "kidney dice: 1.0<br>\n",
    "cancer dice: 1.0<br>\n",
    "\n",
    "case _00010<br>\n",
    "whole_dice: 1.0<br>\n",
    "kidney dice: 1.0<br>\n",
    "cancer dice: 1.0<br>\n",
    "\n",
    "case _00011<br>\n",
    "whole_dice: 1.0<br>\n",
    "kidney dice: 1.0<br>\n",
    "cancer dice: 1.0<br>\n",
    "\n",
    "case _00012<br>\n",
    "whole_dice: 1.0<br>\n",
    "kidney dice: 1.0<br>\n",
    "cancer dice: 1.0<br>\n",
    "\n",
    "case _00013<br>\n",
    "whole_dice: 1.0<br>\n",
    "kidney dice: 1.0<br>\n",
    "cancer dice: 1.0<br>\n",
    "\n",
    "case _00014<br>\n",
    "whole_dice: 1.0<br>\n",
    "kidney dice: 1.0<br>\n",
    "cancer dice: 1.0<br>\n",
    "\n",
    "case _00015<br>\n",
    "whole_dice: 1.0<br>\n",
    "kidney dice: 1.0<br>\n",
    "cancer dice: 1.0<br>\n",
    "\n",
    "case _00016<br>\n",
    "whole_dice: 1.0<br>\n",
    "kidney dice: 1.0<br>\n",
    "cancer dice: 1.0<br>\n",
    "\n",
    "case _00017<br>\n",
    "whole_dice: 1.0<br>\n",
    "kidney dice: 1.0<br>\n",
    "cancer dice: 1.0<br>\n",
    "\n",
    "case _00018<br>\n",
    "whole_dice: 1.0<br>\n",
    "kidney dice: 1.0<br>\n",
    "cancer dice: 1.0<br>\n",
    "\n",
    "case _00019<br>\n",
    "whole_dice: 1.0<br>\n",
    "kidney dice: 1.0<br>\n",
    "cancer dice: 1.0<br>\n",
    "\n",
    "case _00020<br>\n",
    "whole_dice: 1.0<br>\n",
    "kidney dice: 1.0<br>\n",
    "cancer dice: 1.0<br>\n",
    "\n",
    "case _00021<br>\n",
    "whole_dice: 1.0<br>\n",
    "kidney dice: 1.0<br>\n",
    "cancer dice: 1.0<br>\n",
    "\n",
    "case _00022<br>\n",
    "whole_dice: 1.0<br>\n",
    "kidney dice: 1.0<br>\n",
    "cancer dice: 1.0<br>\n",
    "\n",
    "case _00023<br>\n",
    "whole_dice: 1.0<br>\n",
    "kidney dice: 1.0<br>\n",
    "cancer dice: 1.0<br>\n",
    "\n",
    "case _00024<br>\n",
    "whole_dice: 1.0<br>\n",
    "kidney dice: 1.0<br>\n",
    "cancer dice: 1.0<br>\n",
    "\n",
    "case _00025<br>\n",
    "whole_dice: 0.9999995862108918<br>\n",
    "kidney dice: 0.9999996581810102<br>\n",
    "cancer dice: 0.9999994758511522<br>\n",
    "\n",
    "case _00026<br>\n",
    "whole_dice: 1.0<br>\n",
    "kidney dice: 1.0<br>\n",
    "cancer dice: 1.0<br>\n",
    "\n",
    "case _00027<br>\n",
    "whole_dice: 1.0<br>\n",
    "kidney dice: 1.0<br>\n",
    "cancer dice: 1.0<br>\n",
    "\n",
    "case _00028<br>\n",
    "whole_dice: 1.0<br>\n",
    "kidney dice: 1.0<br>\n",
    "cancer dice: 1.0<br>\n",
    "\n",
    "case _00029<br>\n",
    "whole_dice: 1.0<br>\n",
    "kidney dice: 1.0<br>\n",
    "cancer dice: 1.0<br>\n",
    "<hr>\n",
    "average whole: 0.9999999795373079<br>\n",
    "average kidney: 0.9999999780521405<br>\n",
    "average cancer: 0.9999999819259018<br>"
   ]
  },
  {
   "cell_type": "markdown",
   "metadata": {},
   "source": [
    "## 3DUet original result \n",
    "\n",
    "average whole: 0.8630059891064075\n",
    "\n",
    "every whole\n",
    "\n",
    "[0.9591196067875296, 0.9520993383239303, 0.8467956040743501, 0.9601632634342647, 0.9056905448290898, 0.4647860972799211, 0.9523874690157663]\n",
    "\n",
    "average kidney:  0.9470405045689381\n",
    "\n",
    "every kidney\n",
    "\n",
    "[0.9780640254771015, 0.9723550184214887, 0.9539591541870345, 0.9581546771583904, 0.9545758310738587, 0.9016873078551152, 0.9104875178095769]\n",
    "\n",
    "average cancer:  0.14326236188385308\n",
    "\n",
    "every cancer\n",
    "\n",
    "[0.0, 0.01055656559732567, 0.14334679887379115, 0.14086105719571854, 0.16740243999539958, 0.272494556352483, 0.2681751151722535]"
   ]
  },
  {
   "cell_type": "markdown",
   "metadata": {},
   "source": [
    "## 3DUnet result with weight decay\n",
    "\n",
    "average whole: 0.8508269859383292\n",
    "\n",
    "every whole\n",
    "\n",
    "[0.9570119057741051, 0.9193649923248561, 0.8647152845515127, 0.9466173537418437, 0.9179154604735212, 0.40666278392545135, 0.9435011207770142]\n",
    "\n",
    "average kidney:  0.8612331243462235\n",
    "\n",
    "every kidney\n",
    "\n",
    "[0.9707636726283999, 0.9359023560800674, 0.8967651445209858, 0.9721365828253096, 0.9455070781498398, 0.352027851971423, 0.9555291842475386]\n",
    "\n",
    "average cancer:  0.3300786053137735\n",
    "\n",
    "every cancer\n",
    "\n",
    "[0.3729897113175507, 0.0, 0.47862260720778527, 0.4145620243346745, 0.46762071450633175, 0.5767551798300717, 0.0]"
   ]
  },
  {
   "cell_type": "markdown",
   "metadata": {},
   "source": [
    "## penalty_categorical"
   ]
  },
  {
   "cell_type": "code",
   "execution_count": 7,
   "metadata": {},
   "outputs": [
    {
     "name": "stdout",
     "output_type": "stream",
     "text": [
      "[[       nan        nan        nan]\n",
      " [       nan        nan 0.98497314]\n",
      " [       nan        nan 0.80284354]\n",
      " [1.47772347        nan        nan]]\n",
      "[[nan nan nan]\n",
      " [nan nan nan]\n",
      " [nan nan nan]\n",
      " [nan nan nan]]\n",
      "[[-2.2062957  -0.28657302 -4.168716  ]\n",
      " [-0.4040414  -0.8846217   0.9555932 ]\n",
      " [-2.452169   -1.2380549   0.517479  ]\n",
      " [ 3.2268555  -1.5685507  -1.0826172 ]]\n"
     ]
    }
   ],
   "source": [
    "import tensorflow as tf\n",
    "\n",
    "array_tf = tf.convert_to_tensor(a,dtype=tf.float32)\n",
    "\n",
    "result = tf.reduce_sum(array_tf,[0,1,2])\n",
    "result2 = tf.reduce_sum(a.sum(0),0)\n",
    "result3 = tf.reduce_sum(result2,0)\n",
    "result_pow = tf.pow(result3,1.0/3)\n",
    "\n",
    "sess = tf.Session()\n",
    "print(sess.run(result_pow))\n",
    "result_pow = tf.pow(result,1.0/3)\n",
    "weight_y = result_pow / tf.reduce_sum(result_pow)\n",
    "print(sess.run(1/weight_y))\n",
    "print(sess.run(result))\n"
   ]
  },
  {
   "cell_type": "markdown",
   "metadata": {},
   "source": [
    "## Plot"
   ]
  },
  {
   "cell_type": "code",
   "execution_count": 2,
   "metadata": {},
   "outputs": [],
   "source": [
    "import numpy as np\n",
    "import matplotlib.pyplot as plt"
   ]
  },
  {
   "cell_type": "code",
   "execution_count": 3,
   "metadata": {},
   "outputs": [],
   "source": [
    "whole_org =  [0.9591196067875296, 0.9520993383239303, 0.8467956040743501, 0.9601632634342647, 0.9056905448290898, 0.4647860972799211, 0.9523874690157663]\n",
    "kid_org = [0.9780640254771015, 0.9723550184214887, 0.9539591541870345, 0.9581546771583904, 0.9545758310738587, 0.9016873078551152, 0.9104875178095769]\n",
    "can_org = [0.0, 0.01055656559732567, 0.14334679887379115, 0.14086105719571854, 0.16740243999539958, 0.272494556352483, 0.2681751151722535]\n",
    "whole_weight = [0.9570119057741051, 0.9193649923248561, 0.8647152845515127, 0.9466173537418437, 0.9179154604735212, 0.40666278392545135, 0.9435011207770142]\n",
    "kid_weight = [0.9707636726283999, 0.9359023560800674, 0.8967651445209858, 0.9721365828253096, 0.9455070781498398, 0.352027851971423, 0.9555291842475386]\n",
    "can_weight = [0.3729897113175507, 0.0, 0.47862260720778527, 0.4145620243346745, 0.46762071450633175, 0.5767551798300717, 0.0]"
   ]
  },
  {
   "cell_type": "markdown",
   "metadata": {},
   "source": [
    "## Original result"
   ]
  },
  {
   "cell_type": "code",
   "execution_count": null,
   "metadata": {},
   "outputs": [],
   "source": []
  },
  {
   "cell_type": "code",
   "execution_count": 11,
   "metadata": {},
   "outputs": [
    {
     "data": {
      "image/png": "[encoded data removed]",
      "text/plain": [
       "<Figure size 432x288 with 1 Axes>"
      ]
     },
     "metadata": {
      "needs_background": "light"
     },
     "output_type": "display_data"
    }
   ],
   "source": [
    "left = np.arange(len(whole_org))\n",
    "y = [0.0,0.1,0.2,0.3,0.4,0.5,0.6,0.7,0.8,0.9,1.0]\n",
    "width = 0.3\n",
    "#plt.bar(left, whole_org, color=\"r\",width=width, align=\"center\",label=\"whole\")\n",
    "plt.bar(left+width,kid_org,width=width, color=\"seagreen\", align=\"center\",label=\"kidney\")\n",
    "plt.bar(left+width+width,can_org,width=width, color=\"yellow\", align=\"center\",label=\"kidney cancer\")\n",
    "plt.legend(bbox_to_anchor=(1.05,1.0),loc='upper left',borderaxespad=0,fontsize=20)\n",
    "plt.xticks(left + width/2,left)\n",
    "plt.xlabel(\"patient\",fontsize=20)\n",
    "plt.ylabel(\"dice\",fontsize=20)\n",
    "plt.tick_params(axis=\"both\",labelsize=15.0)"
   ]
  },
  {
   "cell_type": "markdown",
   "metadata": {},
   "source": [
    "## Result with weight decay"
   ]
  },
  {
   "cell_type": "code",
   "execution_count": 105,
   "metadata": {},
   "outputs": [
    {
     "data": {
      "image/png": "[encoded data removed]",
      "text/plain": [
       "<Figure size 432x288 with 1 Axes>"
      ]
     },
     "metadata": {
      "needs_background": "light"
     },
     "output_type": "display_data"
    }
   ],
   "source": [
    "left = np.arange(len(whole_org))\n",
    "y = [0.0,0.1,0.2,0.3,0.4,0.5,0.6,0.7,0.8,0.9,1.0]\n",
    "width = 0.2\n",
    "plt.bar(left, whole_weight, color=\"r\",width=width, align=\"center\",label=\"whole\")\n",
    "plt.bar(left+width,kid_weight,width=width, color=\"seagreen\", align=\"center\",label=\"kidney\")\n",
    "plt.bar(left+width+width,can_weight,width=width, color=\"yellow\", align=\"center\",label=\"kidney cancer\")\n",
    "plt.legend(bbox_to_anchor=(-0.3,-0.3),loc='upper left',ncol=3,borderaxespad=0,fontsize=20)\n",
    "plt.xticks(left + width/2,left)\n",
    "plt.xlabel(\"patient\",fontsize=20)\n",
    "plt.ylabel(\"dice\",fontsize=20)\n",
    "plt.tick_params(axis=\"both\",labelsize=15.0)"
   ]
  },
  {
   "cell_type": "markdown",
   "metadata": {},
   "source": [
    "## Marge result"
   ]
  },
  {
   "cell_type": "code",
   "execution_count": 106,
   "metadata": {},
   "outputs": [
    {
     "data": {
      "image/png": "[encoded data removed]",
      "text/plain": [
       "<Figure size 432x288 with 1 Axes>"
      ]
     },
     "metadata": {
      "needs_background": "light"
     },
     "output_type": "display_data"
    }
   ],
   "source": [
    "left = np.arange(len(whole_org))\n",
    "y = [0.0,0.1,0.2,0.3,0.4,0.5,0.6,0.7,0.8,0.9,1.0]\n",
    "width = 0.2\n",
    "#plt.bar(left, whole_org, color=\"r\",width=width, align=\"center\",label=\"whole\",alpha=0.3)\n",
    "#plt.bar(left+width,kid_org,width=width,color=\"b\", align=\"center\",label=\"kidney\",alpha=0.4)\n",
    "#plt.bar(left+width+width,can_org,width=width,color=\"y\", align=\"center\",label=\"kidney cancer\",alpha=0.5)\n",
    "\n",
    "plt.bar(left, whole_weight, color=\"r\",width=width, align=\"center\",label=\"whole\")\n",
    "plt.bar(left+width,kid_weight,width=width,color=\"seagreen\", align=\"center\",label=\"kidney\")\n",
    "plt.bar(left+width+width,can_weight,width=width,color=\"yellow\", align=\"center\",label=\"kidney cancer\")\n",
    "\n",
    "plt.legend(bbox_to_anchor=(-0.3,-0.3),loc='upper left',ncol=3,borderaxespad=0,fontsize=20)\n",
    "plt.xticks(left + width/2,left)\n",
    "plt.xlabel(\"patient\",fontsize=20)\n",
    "plt.ylabel(\"dice\",fontsize=20)\n",
    "plt.tick_params(axis=\"both\",labelsize=15.0)"
   ]
  },
  {
   "cell_type": "markdown",
   "metadata": {},
   "source": [
    "## Compare orginal result with result with weight decay"
   ]
  },
  {
   "cell_type": "markdown",
   "metadata": {},
   "source": [
    "## Kidney"
   ]
  },
  {
   "cell_type": "code",
   "execution_count": 12,
   "metadata": {},
   "outputs": [
    {
     "data": {
      "image/png": "[encoded data removed]",
      "text/plain": [
       "<Figure size 432x288 with 1 Axes>"
      ]
     },
     "metadata": {
      "needs_background": "light"
     },
     "output_type": "display_data"
    }
   ],
   "source": [
    "left = np.arange(len(whole_org))\n",
    "y = [0.0,0.1,0.2,0.3,0.4,0.5,0.6,0.7,0.8,0.9,1.0]\n",
    "width = 0.2\n",
    "#plt.bar(left, whole_org, color=\"r\",width=width, align=\"center\",label=\"original result\")\n",
    "plt.bar(left,kid_org,width=width,color=\"seagreen\", align=\"center\",label=\"original result\")\n",
    "#plt.bar(left,can_org,width=width,color=\"r\", align=\"center\",label=\"original result\")\n",
    "\n",
    "#plt.bar(left+width, whole_weight, color=\"b\",width=width, align=\"center\",label=\"weighted result\")\n",
    "plt.bar(left+width,kid_weight,width=width,color=\"lawngreen\", align=\"center\",label=\"weighted result\")\n",
    "#plt.bar(left+width,can_weight,width=width,color='b', align=\"center\",label=\"weighted result\")\n",
    "\n",
    "plt.legend(bbox_to_anchor=(1.05,1.0),loc='upper left',borderaxespad=0,fontsize=20)\n",
    "plt.xticks(left + width/2,left)\n",
    "#plt.yticks(y)\n",
    "plt.xlabel(\"patient\",fontsize=20)\n",
    "plt.ylabel(\"dice\",fontsize=20)\n",
    "plt.tick_params(axis=\"both\",labelsize=15.0)"
   ]
  },
  {
   "cell_type": "markdown",
   "metadata": {},
   "source": [
    "## Kidney cancer"
   ]
  },
  {
   "cell_type": "code",
   "execution_count": 13,
   "metadata": {},
   "outputs": [
    {
     "data": {
      "image/png": "[encoded data removed]",
      "text/plain": [
       "<Figure size 432x288 with 1 Axes>"
      ]
     },
     "metadata": {
      "needs_background": "light"
     },
     "output_type": "display_data"
    }
   ],
   "source": [
    "left = np.arange(len(whole_org))\n",
    "y = [0.0,0.1,0.2,0.3,0.4,0.5,0.6,0.7,0.8,0.9,1.0]\n",
    "y = [0.0,0.2,0.4,0.6,0.8,1.0]\n",
    "width = 0.2\n",
    "#plt.bar(left, whole_org, color=\"r\",width=width, align=\"center\",label=\"original result\")\n",
    "#plt.bar(left,kid_org,width=width,color=\"r\", align=\"center\",label=\"original result\")\n",
    "plt.bar(left,can_org,width=width,color=\"yellow\", align=\"center\",label=\"original result\")\n",
    "\n",
    "#plt.bar(left+width, whole_weight, color=\"b\",width=width, align=\"center\",label=\"weighted result\")\n",
    "#plt.bar(left+width,kid_weight,width=width,color=\"b\", align=\"center\",label=\"weighted result\")\n",
    "plt.bar(left+width,can_weight,width=width,color='y', align=\"center\",label=\"weighted result\")\n",
    "\n",
    "plt.legend(bbox_to_anchor=(1.05,1.0),loc='upper left',borderaxespad=0,fontsize=20)\n",
    "plt.xticks(left + width/2,left)\n",
    "plt.yticks(y)\n",
    "plt.xlabel(\"patient\",fontsize=20)\n",
    "plt.ylabel(\"dice\",fontsize=20)\n",
    "plt.tick_params(axis=\"both\",labelsize=15.0)"
   ]
  },
  {
   "cell_type": "code",
   "execution_count": 15,
   "metadata": {},
   "outputs": [
    {
     "ename": "SyntaxError",
     "evalue": "EOL while scanning string literal (<ipython-input-15-b43682c66302>, line 2)",
     "output_type": "error",
     "traceback": [
      "\u001b[1;36m  File \u001b[1;32m\"<ipython-input-15-b43682c66302>\"\u001b[1;36m, line \u001b[1;32m2\u001b[0m\n\u001b[1;33m    glob.glob(r'C:\\*\\デスクトップ\\')\u001b[0m\n\u001b[1;37m                              ^\u001b[0m\n\u001b[1;31mSyntaxError\u001b[0m\u001b[1;31m:\u001b[0m EOL while scanning string literal\n"
     ]
    }
   ],
   "source": [
    "import glob\n",
    "glob.glob(r'C:\\*\\デスクトップ\\')"
   ]
  },
  {
   "cell_type": "code",
   "execution_count": null,
   "metadata": {},
   "outputs": [],
   "source": []
  }
 ],
 "metadata": {
  "kernelspec": {
   "display_name": "Python 3",
   "language": "python",
   "name": "python3"
  },
  "language_info": {
   "codemirror_mode": {
    "name": "ipython",
    "version": 3
   },
   "file_extension": ".py",
   "mimetype": "text/x-python",
   "name": "python",
   "nbconvert_exporter": "python",
   "pygments_lexer": "ipython3",
   "version": "3.6.8"
  }
 },
 "nbformat": 4,
 "nbformat_minor": 2
}
